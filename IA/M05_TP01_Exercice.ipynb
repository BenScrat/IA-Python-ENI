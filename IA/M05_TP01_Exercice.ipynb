{
 "cells": [
  {
   "cell_type": "markdown",
   "id": "fd78eddb",
   "metadata": {},
   "source": [
    "# TP1 du module 5 : l'apprentissage supervisé\n",
    "\n",
    "Dans ce TP, nous allons mettre en pratique les principes de l'apprentissage supervisé. Objectifs :\n",
    "* Préparer des jeux de données pour l'apprentissage supervisé\n",
    "* Entraîner un modèle d'arbre de décision\n",
    "* Evaluer les performances d'un modèle de classification\n",
    "* Entraîner et évaluer un modèle de régression"
   ]
  },
  {
   "cell_type": "code",
   "execution_count": 5,
   "id": "f423b9af",
   "metadata": {},
   "outputs": [],
   "source": [
    "# Ajoutez ici les imports de librairies nécessaires\n",
    "import pandas as pd\n",
    "from sklearn.model_selection import train_test_split, cross_val_score\n",
    "from sklearn.tree import DecisionTreeClassifier, DecisionTreeRegressor\n",
    "from sklearn.metrics import accuracy_score, recall_score, precision_score, confusion_matrix, ConfusionMatrixDisplay, mean_squared_error\n",
    "import numpy as np\n",
    "import matplotlib.pyplot as plt\n",
    "from sklearn.tree import plot_tree\n",
    "import seaborn as sns\n",
    "from sklearn.datasets import load_diabetes\n",
    "from sklearn.linear_model import LinearRegression"
   ]
  },
  {
   "cell_type": "markdown",
   "id": "5baf53df",
   "metadata": {},
   "source": [
    "## Création de modèles de classification pour le Titanic\n",
    "\n",
    "1. Commencez par recharger votre jeu de données sur le Titanic, à partir du csv que vous aviez enregistré à la fin du TP du module 4. Ainsi, vous obtenez un jeu de données déjà préparé pour l'apprentissage."
   ]
  },
  {
   "cell_type": "code",
   "execution_count": 6,
   "id": "fb6a795c",
   "metadata": {},
   "outputs": [
    {
     "name": "stdout",
     "output_type": "stream",
     "text": [
      "<class 'pandas.core.frame.DataFrame'>\n",
      "RangeIndex: 891 entries, 0 to 890\n",
      "Data columns (total 10 columns):\n",
      " #   Column      Non-Null Count  Dtype  \n",
      "---  ------      --------------  -----  \n",
      " 0   Survived    891 non-null    int64  \n",
      " 1   Pclass      891 non-null    int64  \n",
      " 2   Age         891 non-null    float64\n",
      " 3   Fare        891 non-null    float64\n",
      " 4   Family      891 non-null    int64  \n",
      " 5   Sex_male    891 non-null    float64\n",
      " 6   Embarked_C  891 non-null    float64\n",
      " 7   Embarked_Q  891 non-null    float64\n",
      " 8   Embarked_S  891 non-null    float64\n",
      " 9   Embarked_U  891 non-null    float64\n",
      "dtypes: float64(7), int64(3)\n",
      "memory usage: 69.7 KB\n"
     ]
    }
   ],
   "source": [
    "titanic = pd.read_csv(\"Titanic.csv\")\n",
    "titanic.info()"
   ]
  },
  {
   "cell_type": "markdown",
   "id": "ca2175c6",
   "metadata": {},
   "source": [
    "2. Séparer vos données en mettant d'un côté les attributs, de l'autre la cible à prédire. Ensuite, séparer encore ces groupes entre entraînement et test (proportion de 0.2)"
   ]
  },
  {
   "cell_type": "code",
   "execution_count": 7,
   "id": "eaf3faeb",
   "metadata": {},
   "outputs": [
    {
     "name": "stdout",
     "output_type": "stream",
     "text": [
      "Taille de données initials : 891\n",
      "Nombre de données d'entrainement 712 , propotion 79.91021324354658 %\n",
      "Nombre de données de test : 179 , proportion 20.089786756453424 %\n"
     ]
    }
   ],
   "source": [
    "X = titanic.drop('Survived', axis=1)\n",
    "y = titanic['Survived']\n",
    "\n",
    "X_train, X_test, y_train, y_test = train_test_split(X,y, test_size=0.2)\n",
    "\n",
    "print(\"Taille de données initials :\", len(titanic))\n",
    "print('Nombre de données d\\'entrainement', len(X_train), \", propotion\", len(X_train)*100/len(titanic), '%')\n",
    "print(\"Nombre de données de test :\", len(X_test), \", proportion\", len(X_test)*100/len(titanic), '%')"
   ]
  },
  {
   "cell_type": "markdown",
   "id": "0fffa149",
   "metadata": {},
   "source": [
    "3. Créez un arbre de décision, sans option particulière pour l'instant. Entraînez-le, puis évaluez-le à l'aide de l'accuracy, sur les jeux de données crées ci-dessus. Comparez ce score avec le score moyen obtenu en effectuant une validation croisée sur l'ensemble du jeu de données."
   ]
  },
  {
   "cell_type": "code",
   "execution_count": 8,
   "id": "75244332",
   "metadata": {},
   "outputs": [
    {
     "name": "stdout",
     "output_type": "stream",
     "text": [
      "Scores de la validation croisé : 0.7867679367271359\n",
      "Accuracy score croisé:  0.7932960893854749\n"
     ]
    }
   ],
   "source": [
    "model = DecisionTreeClassifier()\n",
    "\n",
    "model.fit(X_train, y_train)\n",
    "y_pred = model.predict(X_test)\n",
    "\n",
    "score = cross_val_score(model, X, y, cv=5)\n",
    "\n",
    "print(\"Scores de la validation croisé :\", score.mean())\n",
    "print(\"Accuracy score croisé: \", accuracy_score(y_test, y_pred))\n"
   ]
  },
  {
   "cell_type": "markdown",
   "id": "949b2215",
   "metadata": {},
   "source": [
    "4. Calculer également la précision et le rappel. Cherchez notamment dans la documentation comment indiquer laquelle des deux classes considérer comme la classe positive. Quelles observations pouvez-vous faire ?"
   ]
  },
  {
   "cell_type": "code",
   "execution_count": 9,
   "id": "21576d9a",
   "metadata": {},
   "outputs": [
    {
     "name": "stdout",
     "output_type": "stream",
     "text": [
      "Precision score :  0.746268656716418\n",
      "Recall score :  0.7142857142857143\n"
     ]
    }
   ],
   "source": [
    "print(\"Precision score : \", precision_score(y_test, y_pred, pos_label=1))\n",
    "print(\"Recall score : \", recall_score(y_test, y_pred, pos_label=1))"
   ]
  },
  {
   "cell_type": "markdown",
   "id": "6b647ed3-9f2a-4d61-aa7d-be64f1971640",
   "metadata": {},
   "source": [
    "**Observation** : selon la documentationil y a un argument a ajouter qui est `pos_label` pour indiquer le label positif. Il fonctionne de pair avec l'argument `average`. Nos données etant binaire `average` a la valeur `binary` et `pos_label` a la valeur 1 par defaut. La valeur 1 correspond à la survie du passager, la classe  à considerer comme positive est la survie comme "
   ]
  },
  {
   "cell_type": "markdown",
   "id": "4ebfa508",
   "metadata": {},
   "source": [
    "5. Afficher la matrice de confusion pour cet arbre de décision, sur le jeu de test. Commencez par simplement l'afficher de manière textuelle, puis travailler votre affichage à l'aide de matplotlib afin d'ajouter des couleurs relatives au nombre d'éléments dans chaque case de la matrice."
   ]
  },
  {
   "cell_type": "code",
   "execution_count": 10,
   "id": "0eadce28",
   "metadata": {},
   "outputs": [
    {
     "name": "stdout",
     "output_type": "stream",
     "text": [
      "[[92 17]\n",
      " [20 50]]\n"
     ]
    }
   ],
   "source": [
    "cm = confusion_matrix(y_test, y_pred)\n",
    "print(cm)"
   ]
  },
  {
   "cell_type": "code",
   "execution_count": 11,
   "id": "68993a30",
   "metadata": {},
   "outputs": [
    {
     "data": {
      "text/plain": [
       "<sklearn.metrics._plot.confusion_matrix.ConfusionMatrixDisplay at 0x29529d75710>"
      ]
     },
     "execution_count": 11,
     "metadata": {},
     "output_type": "execute_result"
    },
    {
     "data": {
      "image/png": "[encoded data removed]",
      "text/plain": [
       "<Figure size 640x480 with 2 Axes>"
      ]
     },
     "metadata": {},
     "output_type": "display_data"
    }
   ],
   "source": [
    "\"\"\"disp = ConfusionMatrixDisplay(confusion_matrix=cm, display_labels=model.classes_)\n",
    "disp.plot(cmap=plt.cm.Blues)\n",
    "plt.title(\"Matrice de Confusion\")\n",
    "plt.show()\"\"\"\n",
    "ConfusionMatrixDisplay.from_estimator(model, X_test, y_test)"
   ]
  },
  {
   "cell_type": "markdown",
   "id": "35152af4",
   "metadata": {},
   "source": [
    "6. Quelle est la profondeur de l'arbre de décision que vous avez créé ?"
   ]
  },
  {
   "cell_type": "code",
   "execution_count": 12,
   "id": "8e11c4ce",
   "metadata": {},
   "outputs": [
    {
     "data": {
      "text/plain": [
       "17"
      ]
     },
     "execution_count": 12,
     "metadata": {},
     "output_type": "execute_result"
    }
   ],
   "source": [
    "model.get_depth()"
   ]
  },
  {
   "cell_type": "markdown",
   "id": "81749549",
   "metadata": {},
   "source": [
    "7. Créer un deuxième arbre de décision, en limitant sa profondeur à trois niveaux. Affichez son accuracy sur les données de test : que constatez-vous, et comment pouvez-vous l'expliquer ?"
   ]
  },
  {
   "cell_type": "code",
   "execution_count": 13,
   "id": "37d8da95",
   "metadata": {},
   "outputs": [
    {
     "name": "stdout",
     "output_type": "stream",
     "text": [
      "Accuracy score :  0.8044692737430168\n"
     ]
    }
   ],
   "source": [
    "titanic1 = DecisionTreeClassifier(max_depth=3)\n",
    "titanic1.fit(X_train, y_train)\n",
    "y_pred = titanic1.predict(X_test)\n",
    "\n",
    "print(\"Accuracy score : \", accuracy_score(y_test, y_pred))"
   ]
  },
  {
   "cell_type": "markdown",
   "id": "fa541c9a",
   "metadata": {},
   "source": [
    "8. Visualisez ce nouvel arbre de décision : prenez garde à bien faire apparaître les labels du jeu de données, et remplacez les valeurs 0 et 1 par des labels textuels de votre choix (ex : 'Died' et 'Survived'). Quelles observations pouvez-vous faire sur cet arbre ? Les décisions vous paraissent-elles cohérentes avec l'analyse des données faites dans le module 4 ?"
   ]
  },
  {
   "cell_type": "code",
   "execution_count": 14,
   "id": "3db9ec07",
   "metadata": {},
   "outputs": [
    {
     "data": {
      "image/png": "[encoded data removed]",
      "text/plain": [
       "<Figure size 1000x1000 with 1 Axes>"
      ]
     },
     "metadata": {},
     "output_type": "display_data"
    }
   ],
   "source": [
    "titanic1.fit(X_train, y_train)\n",
    "fig = plt.figure(figsize=(10,10))\n",
    "plot_tree(titanic1, filled=True, feature_names=X.columns, class_names=['Died', 'Survived'])\n",
    "plt.show()"
   ]
  },
  {
   "cell_type": "markdown",
   "id": "a7810558",
   "metadata": {},
   "source": [
    "9. Vous allez à présent comparer les performances d'arbre de profondeurs différentes. Créez différents arbre, en faisant varier la profondeur entre 1 et la profondeur trouvée à la question 6. Pour chaque arbre, calculer son score (accuracy) à l'aide d'une validation croisée à 5 feuilles. Sur un graphique, représentez l'évolution du score en fonction de la profondeur de l'arbre. \n",
    "Affichez également la profondeur pour lequel le score est maximal.\n",
    "Qu'observez-vous ?"
   ]
  },
  {
   "cell_type": "code",
   "execution_count": 15,
   "id": "12852820",
   "metadata": {},
   "outputs": [
    {
     "ename": "AttributeError",
     "evalue": "'numpy.float64' object has no attribute 'append'",
     "output_type": "error",
     "traceback": [
      "\u001b[1;31m---------------------------------------------------------------------------\u001b[0m",
      "\u001b[1;31mAttributeError\u001b[0m                            Traceback (most recent call last)",
      "Cell \u001b[1;32mIn[15], line 5\u001b[0m\n\u001b[0;32m      3\u001b[0m     model \u001b[38;5;241m=\u001b[39m DecisionTreeClassifier(max_depth\u001b[38;5;241m=\u001b[39mdepth)\n\u001b[0;32m      4\u001b[0m     score \u001b[38;5;241m=\u001b[39m cross_val_score(model, X, y, cv\u001b[38;5;241m=\u001b[39m\u001b[38;5;241m5\u001b[39m)\u001b[38;5;241m.\u001b[39mmean()\n\u001b[1;32m----> 5\u001b[0m     score\u001b[38;5;241m.\u001b[39mappend(accuracy_scores)\n\u001b[0;32m      7\u001b[0m plt\u001b[38;5;241m.\u001b[39mplot(\u001b[38;5;28mrange\u001b[39m(\u001b[38;5;241m1\u001b[39m,\u001b[38;5;241m17\u001b[39m), accuracy_scores)\n\u001b[0;32m      8\u001b[0m plt\u001b[38;5;241m.\u001b[39mxticks(\u001b[38;5;28mrange\u001b[39m(\u001b[38;5;241m1\u001b[39m,\u001b[38;5;241m17\u001b[39m))\n",
      "\u001b[1;31mAttributeError\u001b[0m: 'numpy.float64' object has no attribute 'append'"
     ]
    }
   ],
   "source": [
    "accuracy_scores = []\n",
    "for depth in range(1, 17):\n",
    "    model = DecisionTreeClassifier(max_depth=depth)\n",
    "    score = cross_val_score(model, X, y, cv=5).mean()\n",
    "    score.append(accuracy_scores)\n",
    "\n",
    "plt.plot(range(1,17), accuracy_scores)\n",
    "plt.xticks(range(1,17))\n",
    "plt.xlabel(\"Profondeur du modele\")\n",
    "plt.ylabel(\"Accuracy\")\n",
    "plt.title(\"Accuracy du model\")\n"
   ]
  },
  {
   "cell_type": "markdown",
   "id": "906f7111",
   "metadata": {},
   "source": [
    "10. Comparez deux critères pouvant être utilisé pour constuire l'arbre de décision : coefficient de gini et mesure d'entropie. Pour la profondeur de l'arbre,\n",
    "Avec un validation croisée, affichez sur un histogramme les trois valeurs moyennes obtenues. Voyez-vous un critère qui se détache des autres par ses performances ?"
   ]
  },
  {
   "cell_type": "code",
   "execution_count": 16,
   "id": "bdfe567e",
   "metadata": {},
   "outputs": [
    {
     "ename": "NameError",
     "evalue": "name 'max_depth' is not defined",
     "output_type": "error",
     "traceback": [
      "\u001b[1;31m---------------------------------------------------------------------------\u001b[0m",
      "\u001b[1;31mNameError\u001b[0m                                 Traceback (most recent call last)",
      "Cell \u001b[1;32mIn[16], line 6\u001b[0m\n\u001b[0;32m      3\u001b[0m scores \u001b[38;5;241m=\u001b[39m []\n\u001b[0;32m      5\u001b[0m \u001b[38;5;28;01mfor\u001b[39;00m criterion \u001b[38;5;129;01min\u001b[39;00m CRITERIA:\n\u001b[1;32m----> 6\u001b[0m     model \u001b[38;5;241m=\u001b[39m DecisionTreeClassifier(max_depth\u001b[38;5;241m=\u001b[39mmax_depth, criterion\u001b[38;5;241m=\u001b[39mcriterion)\n\u001b[0;32m      7\u001b[0m     score \u001b[38;5;241m=\u001b[39m cross_val_score(model, X, y, cv\u001b[38;5;241m=\u001b[39m\u001b[38;5;241m5\u001b[39m)\u001b[38;5;241m.\u001b[39mmean()\n\u001b[0;32m      8\u001b[0m     scores\u001b[38;5;241m.\u001b[39mappend(score)\n",
      "\u001b[1;31mNameError\u001b[0m: name 'max_depth' is not defined"
     ]
    }
   ],
   "source": [
    "CRITERIA = (\"gini\", \"entropy\")\n",
    "\n",
    "scores = []\n",
    "\n",
    "for criterion in CRITERIA:\n",
    "    model = DecisionTreeClassifier(max_depth=max_depth, criterion=criterion)\n",
    "    score = cross_val_score(model, X, y, cv=5).mean()\n",
    "    scores.append(score)\n",
    "\n",
    "plt.bar(CRITERIA, scores)\n",
    "plt.title(\"Accuracy en fonction du critère\")\n",
    "plt.xlabel(\"Critère\")\n",
    "plt.ylabel(\"Accuracy\")\n",
    "plt.show()"
   ]
  },
  {
   "cell_type": "markdown",
   "id": "3819b10a",
   "metadata": {
    "jp-MarkdownHeadingCollapsed": true
   },
   "source": [
    "## Créer un modèle de regression\n",
    "\n",
    "Pour tester le concept de modèle de régression, nous ne pouvons pas utiliser le jeu de données sur le Titanic. A la place, nous allons nous intéresser à un jeu de données présentant l'évolution de la maladie chez des patients diabétiques. L'objectif sera de prédire l'évolution de la maladie en un an, en se basant sur des données mesurées un an avant. Ce jeu de données est directement disponible via la librairie scikit-learn. Documentation : https://scikit-learn.org/stable/modules/generated/sklearn.datasets.load_diabetes.html\n",
    "\n",
    "1. Commencez par charger les données dans deux dataframe : un pour les attributs, un pour la cible à prédire."
   ]
  },
  {
   "cell_type": "code",
   "execution_count": 11,
   "id": "39d7c581",
   "metadata": {},
   "outputs": [
    {
     "name": "stdout",
     "output_type": "stream",
     "text": [
      "DataFrame des attributs (X):\n",
      "          age       sex       bmi        bp        s1        s2        s3  \\\n",
      "0    0.038076  0.050680  0.061696  0.021872 -0.044223 -0.034821 -0.043401   \n",
      "1   -0.001882 -0.044642 -0.051474 -0.026328 -0.008449 -0.019163  0.074412   \n",
      "2    0.085299  0.050680  0.044451 -0.005670 -0.045599 -0.034194 -0.032356   \n",
      "3   -0.089063 -0.044642 -0.011595 -0.036656  0.012191  0.024991 -0.036038   \n",
      "4    0.005383 -0.044642 -0.036385  0.021872  0.003935  0.015596  0.008142   \n",
      "..        ...       ...       ...       ...       ...       ...       ...   \n",
      "437  0.041708  0.050680  0.019662  0.059744 -0.005697 -0.002566 -0.028674   \n",
      "438 -0.005515  0.050680 -0.015906 -0.067642  0.049341  0.079165 -0.028674   \n",
      "439  0.041708  0.050680 -0.015906  0.017293 -0.037344 -0.013840 -0.024993   \n",
      "440 -0.045472 -0.044642  0.039062  0.001215  0.016318  0.015283 -0.028674   \n",
      "441 -0.045472 -0.044642 -0.073030 -0.081413  0.083740  0.027809  0.173816   \n",
      "\n",
      "           s4        s5        s6  \n",
      "0   -0.002592  0.019907 -0.017646  \n",
      "1   -0.039493 -0.068332 -0.092204  \n",
      "2   -0.002592  0.002861 -0.025930  \n",
      "3    0.034309  0.022688 -0.009362  \n",
      "4   -0.002592 -0.031988 -0.046641  \n",
      "..        ...       ...       ...  \n",
      "437 -0.002592  0.031193  0.007207  \n",
      "438  0.034309 -0.018114  0.044485  \n",
      "439 -0.011080 -0.046883  0.015491  \n",
      "440  0.026560  0.044529 -0.025930  \n",
      "441 -0.039493 -0.004222  0.003064  \n",
      "\n",
      "[442 rows x 10 columns]\n",
      "\n",
      "DataFrame des cibles (y):\n",
      "     target\n",
      "0     151.0\n",
      "1      75.0\n",
      "2     141.0\n",
      "3     206.0\n",
      "4     135.0\n",
      "..      ...\n",
      "437   178.0\n",
      "438   104.0\n",
      "439   132.0\n",
      "440   220.0\n",
      "441    57.0\n",
      "\n",
      "[442 rows x 1 columns]\n"
     ]
    }
   ],
   "source": [
    "diabetes = load_diabetes()\n",
    "\n",
    "# DataFrame pour les attributs (features)\n",
    "X = pd.DataFrame(diabetes.data, columns=diabetes.feature_names)\n",
    "\n",
    "# DataFrame pour les cibles (targets)\n",
    "y = pd.DataFrame(diabetes.target, columns=['target'])\n",
    "\n",
    "# Afficher les DataFrame créés\n",
    "print(\"DataFrame des attributs (X):\")\n",
    "print(X)  \n",
    "\n",
    "print(\"\\nDataFrame des cibles (y):\")\n",
    "print(y)"
   ]
  },
  {
   "cell_type": "markdown",
   "id": "971982f5",
   "metadata": {},
   "source": [
    "2. Affichez les premières lignes des attributs. Avez-vous bien repéré contenant la valeur à prédire ?"
   ]
  },
  {
   "cell_type": "code",
   "execution_count": 12,
   "id": "3a508658",
   "metadata": {},
   "outputs": [
    {
     "name": "stdout",
     "output_type": "stream",
     "text": [
      "        age       sex       bmi        bp        s1        s2        s3  \\\n",
      "0  0.038076  0.050680  0.061696  0.021872 -0.044223 -0.034821 -0.043401   \n",
      "1 -0.001882 -0.044642 -0.051474 -0.026328 -0.008449 -0.019163  0.074412   \n",
      "2  0.085299  0.050680  0.044451 -0.005670 -0.045599 -0.034194 -0.032356   \n",
      "3 -0.089063 -0.044642 -0.011595 -0.036656  0.012191  0.024991 -0.036038   \n",
      "4  0.005383 -0.044642 -0.036385  0.021872  0.003935  0.015596  0.008142   \n",
      "\n",
      "         s4        s5        s6  \n",
      "0 -0.002592  0.019907 -0.017646  \n",
      "1 -0.039493 -0.068332 -0.092204  \n",
      "2 -0.002592  0.002861 -0.025930  \n",
      "3  0.034309  0.022688 -0.009362  \n",
      "4 -0.002592 -0.031988 -0.046641  \n"
     ]
    }
   ],
   "source": [
    "print(X.head()) "
   ]
  },
  {
   "cell_type": "markdown",
   "id": "9530d95f",
   "metadata": {},
   "source": [
    "3. Commencez par effectuer une régression linéaire, en prenant bien soin d'avoir des données d'entraînement et de test. Quelle erreur quadratique moyenne obtenez-vous ? Comment analysez-vous ce résultat ?"
   ]
  },
  {
   "cell_type": "code",
   "execution_count": 17,
   "id": "8db48a4d",
   "metadata": {},
   "outputs": [
    {
     "name": "stdout",
     "output_type": "stream",
     "text": [
      "Erreur quadratique moyenne : 3654.7832827370944\n"
     ]
    }
   ],
   "source": [
    "X_train, X_test, y_train, y_test = train_test_split(diabetes.data, diabetes.target, test_size=0.2)\n",
    "\n",
    "linear_regrassion_momdel = LinearRegression()\n",
    "linear_regrassion_momdel.fit(X_train, y_train)\n",
    "\n",
    "y_pred = linear_regrassion_momdel.predict(X_test)\n",
    "print(\"Erreur quadratique moyenne :\", mean_squared_error(y_test, y_pred))"
   ]
  },
  {
   "cell_type": "markdown",
   "id": "002d4b29-7530-4c46-886d-a1b4748e2e0b",
   "metadata": {},
   "source": [
    "les donées sont corrompue"
   ]
  },
  {
   "cell_type": "markdown",
   "id": "9e99bcc0",
   "metadata": {},
   "source": [
    "4. Faites une représentation graphique des données réelles par rapport aux données prédites par le modèle : pour chaque attribut, représentez graphiquement les valeurs sur l'abscisse, et l'évolution de la maladie (réelle et prédite) sur les ordonnées. Colorez différement les données en fonction de si elles sont réelles ou prédites."
   ]
  },
  {
   "cell_type": "code",
   "execution_count": 61,
   "id": "dd1f38e6",
   "metadata": {},
   "outputs": [
    {
     "ename": "KeyError",
     "evalue": "'age'",
     "output_type": "error",
     "traceback": [
      "\u001b[1;31m---------------------------------------------------------------------------\u001b[0m",
      "\u001b[1;31mKeyError\u001b[0m                                  Traceback (most recent call last)",
      "File \u001b[1;32m~\\AppData\\Local\\anaconda3\\Lib\\site-packages\\pandas\\core\\indexes\\base.py:3791\u001b[0m, in \u001b[0;36mIndex.get_loc\u001b[1;34m(self, key)\u001b[0m\n\u001b[0;32m   3790\u001b[0m \u001b[38;5;28;01mtry\u001b[39;00m:\n\u001b[1;32m-> 3791\u001b[0m     \u001b[38;5;28;01mreturn\u001b[39;00m \u001b[38;5;28mself\u001b[39m\u001b[38;5;241m.\u001b[39m_engine\u001b[38;5;241m.\u001b[39mget_loc(casted_key)\n\u001b[0;32m   3792\u001b[0m \u001b[38;5;28;01mexcept\u001b[39;00m \u001b[38;5;167;01mKeyError\u001b[39;00m \u001b[38;5;28;01mas\u001b[39;00m err:\n",
      "File \u001b[1;32mindex.pyx:152\u001b[0m, in \u001b[0;36mpandas._libs.index.IndexEngine.get_loc\u001b[1;34m()\u001b[0m\n",
      "File \u001b[1;32mindex.pyx:181\u001b[0m, in \u001b[0;36mpandas._libs.index.IndexEngine.get_loc\u001b[1;34m()\u001b[0m\n",
      "File \u001b[1;32mpandas\\_libs\\hashtable_class_helper.pxi:7080\u001b[0m, in \u001b[0;36mpandas._libs.hashtable.PyObjectHashTable.get_item\u001b[1;34m()\u001b[0m\n",
      "File \u001b[1;32mpandas\\_libs\\hashtable_class_helper.pxi:7088\u001b[0m, in \u001b[0;36mpandas._libs.hashtable.PyObjectHashTable.get_item\u001b[1;34m()\u001b[0m\n",
      "\u001b[1;31mKeyError\u001b[0m: 'age'",
      "\nThe above exception was the direct cause of the following exception:\n",
      "\u001b[1;31mKeyError\u001b[0m                                  Traceback (most recent call last)",
      "Cell \u001b[1;32mIn[61], line 2\u001b[0m\n\u001b[0;32m      1\u001b[0m \u001b[38;5;66;03m# y_pred, y_test\u001b[39;00m\n\u001b[1;32m----> 2\u001b[0m plt\u001b[38;5;241m.\u001b[39mscatter(X[\u001b[38;5;124m'\u001b[39m\u001b[38;5;124mage\u001b[39m\u001b[38;5;124m'\u001b[39m], y_test, color\u001b[38;5;241m=\u001b[39m\u001b[38;5;124m'\u001b[39m\u001b[38;5;124mr\u001b[39m\u001b[38;5;124m'\u001b[39m, label\u001b[38;5;241m=\u001b[39m\u001b[38;5;124m\"\u001b[39m\u001b[38;5;124mDonnée réelles\u001b[39m\u001b[38;5;124m\"\u001b[39m)\n\u001b[0;32m      3\u001b[0m plt\u001b[38;5;241m.\u001b[39mscatter(X[\u001b[38;5;124m'\u001b[39m\u001b[38;5;124mage\u001b[39m\u001b[38;5;124m'\u001b[39m],y_pred, color\u001b[38;5;241m=\u001b[39m\u001b[38;5;124m'\u001b[39m\u001b[38;5;124mr\u001b[39m\u001b[38;5;124m'\u001b[39m, label\u001b[38;5;241m=\u001b[39m\u001b[38;5;124m\"\u001b[39m\u001b[38;5;124mDonnée predi\u001b[39m\u001b[38;5;124m\"\u001b[39m)\n",
      "File \u001b[1;32m~\\AppData\\Local\\anaconda3\\Lib\\site-packages\\pandas\\core\\frame.py:3893\u001b[0m, in \u001b[0;36mDataFrame.__getitem__\u001b[1;34m(self, key)\u001b[0m\n\u001b[0;32m   3891\u001b[0m \u001b[38;5;28;01mif\u001b[39;00m \u001b[38;5;28mself\u001b[39m\u001b[38;5;241m.\u001b[39mcolumns\u001b[38;5;241m.\u001b[39mnlevels \u001b[38;5;241m>\u001b[39m \u001b[38;5;241m1\u001b[39m:\n\u001b[0;32m   3892\u001b[0m     \u001b[38;5;28;01mreturn\u001b[39;00m \u001b[38;5;28mself\u001b[39m\u001b[38;5;241m.\u001b[39m_getitem_multilevel(key)\n\u001b[1;32m-> 3893\u001b[0m indexer \u001b[38;5;241m=\u001b[39m \u001b[38;5;28mself\u001b[39m\u001b[38;5;241m.\u001b[39mcolumns\u001b[38;5;241m.\u001b[39mget_loc(key)\n\u001b[0;32m   3894\u001b[0m \u001b[38;5;28;01mif\u001b[39;00m is_integer(indexer):\n\u001b[0;32m   3895\u001b[0m     indexer \u001b[38;5;241m=\u001b[39m [indexer]\n",
      "File \u001b[1;32m~\\AppData\\Local\\anaconda3\\Lib\\site-packages\\pandas\\core\\indexes\\base.py:3798\u001b[0m, in \u001b[0;36mIndex.get_loc\u001b[1;34m(self, key)\u001b[0m\n\u001b[0;32m   3793\u001b[0m     \u001b[38;5;28;01mif\u001b[39;00m \u001b[38;5;28misinstance\u001b[39m(casted_key, \u001b[38;5;28mslice\u001b[39m) \u001b[38;5;129;01mor\u001b[39;00m (\n\u001b[0;32m   3794\u001b[0m         \u001b[38;5;28misinstance\u001b[39m(casted_key, abc\u001b[38;5;241m.\u001b[39mIterable)\n\u001b[0;32m   3795\u001b[0m         \u001b[38;5;129;01mand\u001b[39;00m \u001b[38;5;28many\u001b[39m(\u001b[38;5;28misinstance\u001b[39m(x, \u001b[38;5;28mslice\u001b[39m) \u001b[38;5;28;01mfor\u001b[39;00m x \u001b[38;5;129;01min\u001b[39;00m casted_key)\n\u001b[0;32m   3796\u001b[0m     ):\n\u001b[0;32m   3797\u001b[0m         \u001b[38;5;28;01mraise\u001b[39;00m InvalidIndexError(key)\n\u001b[1;32m-> 3798\u001b[0m     \u001b[38;5;28;01mraise\u001b[39;00m \u001b[38;5;167;01mKeyError\u001b[39;00m(key) \u001b[38;5;28;01mfrom\u001b[39;00m \u001b[38;5;21;01merr\u001b[39;00m\n\u001b[0;32m   3799\u001b[0m \u001b[38;5;28;01mexcept\u001b[39;00m \u001b[38;5;167;01mTypeError\u001b[39;00m:\n\u001b[0;32m   3800\u001b[0m     \u001b[38;5;66;03m# If we have a listlike key, _check_indexing_error will raise\u001b[39;00m\n\u001b[0;32m   3801\u001b[0m     \u001b[38;5;66;03m#  InvalidIndexError. Otherwise we fall through and re-raise\u001b[39;00m\n\u001b[0;32m   3802\u001b[0m     \u001b[38;5;66;03m#  the TypeError.\u001b[39;00m\n\u001b[0;32m   3803\u001b[0m     \u001b[38;5;28mself\u001b[39m\u001b[38;5;241m.\u001b[39m_check_indexing_error(key)\n",
      "\u001b[1;31mKeyError\u001b[0m: 'age'"
     ]
    }
   ],
   "source": [
    "# y_pred, y_test\n",
    "plt.scatter(X['age'], y_test, color='r', label=\"Donnée réelles\")\n",
    "plt.scatter(X['age'],y_pred, color='r', label=\"Donnée predi\")"
   ]
  },
  {
   "cell_type": "markdown",
   "id": "cca8ad81",
   "metadata": {},
   "source": [
    "5. Sur un seul graphe, affichez les valeurs prédites en fonction des valeurs réelles. Tracez également la droite d'équation y=x. Quelles observations faites-vous ?"
   ]
  },
  {
   "cell_type": "code",
   "execution_count": null,
   "id": "36cc6ccc",
   "metadata": {},
   "outputs": [],
   "source": []
  },
  {
   "cell_type": "markdown",
   "id": "cd4c4dc8",
   "metadata": {},
   "source": [
    "6. Pour une régression linéaire, les valeurs sur les attributs sont cruciales. Par défaut lorsque vous avez chargé vos données avec Scikit-learn, celles-ci était normalisées. Rechargez-les en ajoutant l'option pour obtenir les données brutes. Affichez les premières lignes du dataset pour constater les différences de plage de valeurs."
   ]
  },
  {
   "cell_type": "code",
   "execution_count": 67,
   "id": "07d7fce8",
   "metadata": {},
   "outputs": [
    {
     "name": "stdout",
     "output_type": "stream",
     "text": [
      "DataFrame des attributs (X):\n",
      "      age  sex   bmi      bp     s1     s2    s3    s4      s5     s6\n",
      "0    59.0  2.0  32.1  101.00  157.0   93.2  38.0  4.00  4.8598   87.0\n",
      "1    48.0  1.0  21.6   87.00  183.0  103.2  70.0  3.00  3.8918   69.0\n",
      "2    72.0  2.0  30.5   93.00  156.0   93.6  41.0  4.00  4.6728   85.0\n",
      "3    24.0  1.0  25.3   84.00  198.0  131.4  40.0  5.00  4.8903   89.0\n",
      "4    50.0  1.0  23.0  101.00  192.0  125.4  52.0  4.00  4.2905   80.0\n",
      "..    ...  ...   ...     ...    ...    ...   ...   ...     ...    ...\n",
      "437  60.0  2.0  28.2  112.00  185.0  113.8  42.0  4.00  4.9836   93.0\n",
      "438  47.0  2.0  24.9   75.00  225.0  166.0  42.0  5.00  4.4427  102.0\n",
      "439  60.0  2.0  24.9   99.67  162.0  106.6  43.0  3.77  4.1271   95.0\n",
      "440  36.0  1.0  30.0   95.00  201.0  125.2  42.0  4.79  5.1299   85.0\n",
      "441  36.0  1.0  19.6   71.00  250.0  133.2  97.0  3.00  4.5951   92.0\n",
      "\n",
      "[442 rows x 10 columns]\n",
      "\n",
      "DataFrame des cibles (y):\n",
      "     target\n",
      "0     151.0\n",
      "1      75.0\n",
      "2     141.0\n",
      "3     206.0\n",
      "4     135.0\n",
      "..      ...\n",
      "437   178.0\n",
      "438   104.0\n",
      "439   132.0\n",
      "440   220.0\n",
      "441    57.0\n",
      "\n",
      "[442 rows x 1 columns]\n"
     ]
    }
   ],
   "source": [
    "diabetes_brut = load_diabetes(scaled=False)\n",
    "\n",
    "# DataFrame pour les attributs (features)\n",
    "X = pd.DataFrame(diabetes_brut.data, columns=diabetes_brut.feature_names)\n",
    "\n",
    "# DataFrame pour les cibles (targets)\n",
    "y = pd.DataFrame(diabetes_brut.target, columns=['target'])\n",
    "\n",
    "# Afficher les DataFrame créés\n",
    "print(\"DataFrame des attributs (X):\")\n",
    "print(X)  \n",
    "\n",
    "print(\"\\nDataFrame des cibles (y):\")\n",
    "print(y)"
   ]
  },
  {
   "cell_type": "markdown",
   "id": "655bd7ea",
   "metadata": {},
   "source": [
    "7. Réentraînez un modèle de régression linéaire sur ces données non normalisées? Que constatez-vous ?"
   ]
  },
  {
   "cell_type": "code",
   "execution_count": 68,
   "id": "3650381a",
   "metadata": {},
   "outputs": [],
   "source": [
    "X_train, X_test, y_train, y_test = train_test_split(diabetes_brut.data, diabetes_brut.target, test_size=0.2)"
   ]
  },
  {
   "cell_type": "code",
   "execution_count": 69,
   "id": "3b466fc6-cf10-40c4-bb9e-70e1c4ff664d",
   "metadata": {},
   "outputs": [
    {
     "name": "stdout",
     "output_type": "stream",
     "text": [
      "Erreur quadratique moyenne : 2499.6542128177025\n"
     ]
    }
   ],
   "source": [
    "linear_regrassion_momdel = LinearRegression()\n",
    "linear_regrassion_momdel.fit(X_train, y_train)\n",
    "\n",
    "y_pred = linear_regrassion_momdel.predict(X_test)\n",
    "print(\"Erreur quadratique moyenne :\", mean_squared_error(y_test, y_pred))"
   ]
  },
  {
   "cell_type": "markdown",
   "id": "3f9fcf55",
   "metadata": {},
   "source": [
    "8. Proposez des modèles de régression polynomiale : tester plusieurs degrés de polynôme, entre 1 et 20. Pour chacun, calculez le score obtenu, et affichez-le. Représentez graphiquement l'évolution de l'erreur quadratique moyenne en fonction du degré du polynome.\n",
    "**Attention :** pour cet partie, réfléchissez aux données que vous voulez utiliser : normalisées ou non ?"
   ]
  },
  {
   "cell_type": "code",
   "execution_count": null,
   "id": "d8877d23",
   "metadata": {},
   "outputs": [],
   "source": []
  },
  {
   "cell_type": "markdown",
   "id": "cc404583",
   "metadata": {},
   "source": [
    "Constatez-vous une différence avec la régression linéaire simple ?"
   ]
  },
  {
   "cell_type": "markdown",
   "id": "e7341463",
   "metadata": {},
   "source": [
    "## Régression avec un arbre de décision\n",
    "\n",
    "Il est aussi possible d'utiliser les arbres de décision pour construire un modèle de régression. En utilisant la classe adéquate de scikit-learn, proposez un arbre de régression sur le jeu de données du diabètes. Prenez soin d'analyser la profondeur de l'arbre, afin de choisir celle qui vous parait la plus pertinente. Affichez l'arbre obtenant le meilleur score.\n",
    "\n",
    "Comparez les résultats obtenus avec ceux de la régression linéaire et de la régression polynomiale."
   ]
  },
  {
   "cell_type": "code",
   "execution_count": 73,
   "id": "af19bd1f",
   "metadata": {},
   "outputs": [],
   "source": [
    "for depth in range(1,20):\n",
    "    model = DecisionTreeRegressor()\n",
    "    model.fit()"
   ]
  },
  {
   "cell_type": "code",
   "execution_count": null,
   "id": "1fcfe5df",
   "metadata": {},
   "outputs": [],
   "source": []
  },
  {
   "cell_type": "code",
   "execution_count": null,
   "id": "888a47b2",
   "metadata": {},
   "outputs": [],
   "source": []
  }
 ],
 "metadata": {
  "kernelspec": {
   "display_name": "Python 3 (ipykernel)",
   "language": "python",
   "name": "python3"
  },
  "language_info": {
   "codemirror_mode": {
    "name": "ipython",
    "version": 3
   },
   "file_extension": ".py",
   "mimetype": "text/x-python",
   "name": "python",
   "nbconvert_exporter": "python",
   "pygments_lexer": "ipython3",
   "version": "3.11.7"
  }
 },
 "nbformat": 4,
 "nbformat_minor": 5
}
