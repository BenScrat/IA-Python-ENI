{
 "cells": [
  {
   "cell_type": "markdown",
   "id": "395d61ec",
   "metadata": {},
   "source": [
    "# TP1 du module 4 : le travail sur les données.\n",
    "\n",
    "Dans ce TP, nous allons explorer plus en détails le jeu de données du Titanic. Objectifs :\n",
    "* Analyser des statistiques pour décrire les données\n",
    "* Produire des visualisations pertinentes pour la compréhesion des données.\n",
    "* Nettoyer le jeu de données\n",
    "* Préparer les données pour qu'elles soient prêtes à être fournies à un algorithme d'apprentissage."
   ]
  },
  {
   "cell_type": "code",
   "id": "5117092f",
   "metadata": {
    "ExecuteTime": {
     "end_time": "2024-05-30T10:01:42.817649Z",
     "start_time": "2024-05-30T10:01:42.615582Z"
    }
   },
   "source": [
    "# Ajoutez ici les imports de librairies nécessaires\n",
    "import numpy as np\n",
    "import pandas as pd\n",
    "from matplotlib import pyplot as plt\n",
    "import seaborn as sns\n",
    "from sklearn.preprocessing import OneHotEncoder"
   ],
   "outputs": [],
   "execution_count": 2
  },
  {
   "cell_type": "markdown",
   "id": "fde8da96",
   "metadata": {},
   "source": [
    "Commencez par recharger le jeu de données depuis un csv dans un dataframe Pandas. Rappel de l'adresse à laquelle vous pouvez le trouver : https://raw.githubusercontent.com/datasciencedojo/datasets/master/titanic.csv"
   ]
  },
  {
   "cell_type": "code",
   "id": "33fba6ca",
   "metadata": {
    "ExecuteTime": {
     "end_time": "2024-05-30T10:01:42.856738Z",
     "start_time": "2024-05-30T10:01:42.819637Z"
    }
   },
   "source": [
    "titanic_data = pd.read_csv(\"Titanic.csv\")\n",
    "titanic_data"
   ],
   "outputs": [
    {
     "data": {
      "text/plain": [
       "     Survived  Pclass   Age     Fare  Family  Sex_male  Embarked_C  \\\n",
       "0           0       3  22.0   7.2500       1       1.0         0.0   \n",
       "1           1       1  38.0  71.2833       1       0.0         1.0   \n",
       "2           1       3  26.0   7.9250       0       0.0         0.0   \n",
       "3           1       1  35.0  53.1000       1       0.0         0.0   \n",
       "4           0       3  35.0   8.0500       0       1.0         0.0   \n",
       "..        ...     ...   ...      ...     ...       ...         ...   \n",
       "886         0       2  27.0  13.0000       0       1.0         0.0   \n",
       "887         1       1  19.0  30.0000       0       0.0         0.0   \n",
       "888         0       3  21.0  23.4500       3       0.0         0.0   \n",
       "889         1       1  26.0  30.0000       0       1.0         1.0   \n",
       "890         0       3  32.0   7.7500       0       1.0         0.0   \n",
       "\n",
       "     Embarked_Q  Embarked_S  Embarked_U  \n",
       "0           0.0         1.0         0.0  \n",
       "1           0.0         0.0         0.0  \n",
       "2           0.0         1.0         0.0  \n",
       "3           0.0         1.0         0.0  \n",
       "4           0.0         1.0         0.0  \n",
       "..          ...         ...         ...  \n",
       "886         0.0         1.0         0.0  \n",
       "887         0.0         1.0         0.0  \n",
       "888         0.0         1.0         0.0  \n",
       "889         0.0         0.0         0.0  \n",
       "890         1.0         0.0         0.0  \n",
       "\n",
       "[891 rows x 10 columns]"
      ],
      "text/html": [
       "<div>\n",
       "<style scoped>\n",
       "    .dataframe tbody tr th:only-of-type {\n",
       "        vertical-align: middle;\n",
       "    }\n",
       "\n",
       "    .dataframe tbody tr th {\n",
       "        vertical-align: top;\n",
       "    }\n",
       "\n",
       "    .dataframe thead th {\n",
       "        text-align: right;\n",
       "    }\n",
       "</style>\n",
       "<table border=\"1\" class=\"dataframe\">\n",
       "  <thead>\n",
       "    <tr style=\"text-align: right;\">\n",
       "      <th></th>\n",
       "      <th>Survived</th>\n",
       "      <th>Pclass</th>\n",
       "      <th>Age</th>\n",
       "      <th>Fare</th>\n",
       "      <th>Family</th>\n",
       "      <th>Sex_male</th>\n",
       "      <th>Embarked_C</th>\n",
       "      <th>Embarked_Q</th>\n",
       "      <th>Embarked_S</th>\n",
       "      <th>Embarked_U</th>\n",
       "    </tr>\n",
       "  </thead>\n",
       "  <tbody>\n",
       "    <tr>\n",
       "      <th>0</th>\n",
       "      <td>0</td>\n",
       "      <td>3</td>\n",
       "      <td>22.0</td>\n",
       "      <td>7.2500</td>\n",
       "      <td>1</td>\n",
       "      <td>1.0</td>\n",
       "      <td>0.0</td>\n",
       "      <td>0.0</td>\n",
       "      <td>1.0</td>\n",
       "      <td>0.0</td>\n",
       "    </tr>\n",
       "    <tr>\n",
       "      <th>1</th>\n",
       "      <td>1</td>\n",
       "      <td>1</td>\n",
       "      <td>38.0</td>\n",
       "      <td>71.2833</td>\n",
       "      <td>1</td>\n",
       "      <td>0.0</td>\n",
       "      <td>1.0</td>\n",
       "      <td>0.0</td>\n",
       "      <td>0.0</td>\n",
       "      <td>0.0</td>\n",
       "    </tr>\n",
       "    <tr>\n",
       "      <th>2</th>\n",
       "      <td>1</td>\n",
       "      <td>3</td>\n",
       "      <td>26.0</td>\n",
       "      <td>7.9250</td>\n",
       "      <td>0</td>\n",
       "      <td>0.0</td>\n",
       "      <td>0.0</td>\n",
       "      <td>0.0</td>\n",
       "      <td>1.0</td>\n",
       "      <td>0.0</td>\n",
       "    </tr>\n",
       "    <tr>\n",
       "      <th>3</th>\n",
       "      <td>1</td>\n",
       "      <td>1</td>\n",
       "      <td>35.0</td>\n",
       "      <td>53.1000</td>\n",
       "      <td>1</td>\n",
       "      <td>0.0</td>\n",
       "      <td>0.0</td>\n",
       "      <td>0.0</td>\n",
       "      <td>1.0</td>\n",
       "      <td>0.0</td>\n",
       "    </tr>\n",
       "    <tr>\n",
       "      <th>4</th>\n",
       "      <td>0</td>\n",
       "      <td>3</td>\n",
       "      <td>35.0</td>\n",
       "      <td>8.0500</td>\n",
       "      <td>0</td>\n",
       "      <td>1.0</td>\n",
       "      <td>0.0</td>\n",
       "      <td>0.0</td>\n",
       "      <td>1.0</td>\n",
       "      <td>0.0</td>\n",
       "    </tr>\n",
       "    <tr>\n",
       "      <th>...</th>\n",
       "      <td>...</td>\n",
       "      <td>...</td>\n",
       "      <td>...</td>\n",
       "      <td>...</td>\n",
       "      <td>...</td>\n",
       "      <td>...</td>\n",
       "      <td>...</td>\n",
       "      <td>...</td>\n",
       "      <td>...</td>\n",
       "      <td>...</td>\n",
       "    </tr>\n",
       "    <tr>\n",
       "      <th>886</th>\n",
       "      <td>0</td>\n",
       "      <td>2</td>\n",
       "      <td>27.0</td>\n",
       "      <td>13.0000</td>\n",
       "      <td>0</td>\n",
       "      <td>1.0</td>\n",
       "      <td>0.0</td>\n",
       "      <td>0.0</td>\n",
       "      <td>1.0</td>\n",
       "      <td>0.0</td>\n",
       "    </tr>\n",
       "    <tr>\n",
       "      <th>887</th>\n",
       "      <td>1</td>\n",
       "      <td>1</td>\n",
       "      <td>19.0</td>\n",
       "      <td>30.0000</td>\n",
       "      <td>0</td>\n",
       "      <td>0.0</td>\n",
       "      <td>0.0</td>\n",
       "      <td>0.0</td>\n",
       "      <td>1.0</td>\n",
       "      <td>0.0</td>\n",
       "    </tr>\n",
       "    <tr>\n",
       "      <th>888</th>\n",
       "      <td>0</td>\n",
       "      <td>3</td>\n",
       "      <td>21.0</td>\n",
       "      <td>23.4500</td>\n",
       "      <td>3</td>\n",
       "      <td>0.0</td>\n",
       "      <td>0.0</td>\n",
       "      <td>0.0</td>\n",
       "      <td>1.0</td>\n",
       "      <td>0.0</td>\n",
       "    </tr>\n",
       "    <tr>\n",
       "      <th>889</th>\n",
       "      <td>1</td>\n",
       "      <td>1</td>\n",
       "      <td>26.0</td>\n",
       "      <td>30.0000</td>\n",
       "      <td>0</td>\n",
       "      <td>1.0</td>\n",
       "      <td>1.0</td>\n",
       "      <td>0.0</td>\n",
       "      <td>0.0</td>\n",
       "      <td>0.0</td>\n",
       "    </tr>\n",
       "    <tr>\n",
       "      <th>890</th>\n",
       "      <td>0</td>\n",
       "      <td>3</td>\n",
       "      <td>32.0</td>\n",
       "      <td>7.7500</td>\n",
       "      <td>0</td>\n",
       "      <td>1.0</td>\n",
       "      <td>0.0</td>\n",
       "      <td>1.0</td>\n",
       "      <td>0.0</td>\n",
       "      <td>0.0</td>\n",
       "    </tr>\n",
       "  </tbody>\n",
       "</table>\n",
       "<p>891 rows × 10 columns</p>\n",
       "</div>"
      ]
     },
     "execution_count": 3,
     "metadata": {},
     "output_type": "execute_result"
    }
   ],
   "execution_count": 3
  },
  {
   "cell_type": "markdown",
   "id": "205f765d",
   "metadata": {},
   "source": [
    "## Exploration du jeu de données\n",
    "\n",
    "Commencez par répondre au question suivante. Prenez le temps de bien analyser vos réponses, afin de mieux vous familiariser avec le contenu du jeu de données.\n",
    "\n",
    "1. Combien de données dans le jeu de données Titanic ?"
   ]
  },
  {
   "cell_type": "code",
   "id": "4ee3884e",
   "metadata": {
    "ExecuteTime": {
     "end_time": "2024-05-30T10:01:42.862531Z",
     "start_time": "2024-05-30T10:01:42.858726Z"
    }
   },
   "source": [
    "print(\"Nombre de données total : \", titanic_data.size)\n",
    "print(\"Nombre de lignes : \", titanic_data.shape[0])\n",
    "print(\"Nombre de colonnes : \", titanic_data.shape[1])"
   ],
   "outputs": [
    {
     "name": "stdout",
     "output_type": "stream",
     "text": [
      "Nombre de données total :  8910\n",
      "Nombre de lignes :  891\n",
      "Nombre de colonnes :  10\n"
     ]
    }
   ],
   "execution_count": 4
  },
  {
   "cell_type": "markdown",
   "id": "74f32328",
   "metadata": {},
   "source": [
    "2. Combien d'attributs compte le jeu de données ?"
   ]
  },
  {
   "cell_type": "code",
   "id": "80eeccc3",
   "metadata": {
    "ExecuteTime": {
     "end_time": "2024-05-30T10:01:42.873493Z",
     "start_time": "2024-05-30T10:01:42.863519Z"
    }
   },
   "source": [
    "titanic_data.shape[1]"
   ],
   "outputs": [
    {
     "data": {
      "text/plain": [
       "10"
      ]
     },
     "execution_count": 5,
     "metadata": {},
     "output_type": "execute_result"
    }
   ],
   "execution_count": 5
  },
  {
   "cell_type": "markdown",
   "id": "819573a7",
   "metadata": {},
   "source": [
    "3. Identifiez quelles colonnes contiennent des données discrètes, et lesquelles contiennent des données continues."
   ]
  },
  {
   "cell_type": "code",
   "id": "87aa38a1",
   "metadata": {
    "ExecuteTime": {
     "end_time": "2024-05-30T10:01:42.885446Z",
     "start_time": "2024-05-30T10:01:42.875488Z"
    }
   },
   "source": [
    "titanic_data\n",
    "print(\"Données discrètes : Survived, Pclass, Name, Sex, SibSp, Parch, Cabin, Embarked\")\n",
    "print(\"Données continues : Age, Fare\")"
   ],
   "outputs": [
    {
     "name": "stdout",
     "output_type": "stream",
     "text": [
      "Données discrètes : Survived, Pclass, Name, Sex, SibSp, Parch, Cabin, Embarked\n",
      "Données continues : Age, Fare\n"
     ]
    }
   ],
   "execution_count": 6
  },
  {
   "cell_type": "markdown",
   "id": "59733c69",
   "metadata": {},
   "source": [
    "4. De la même manière, identifiez les colonnes de données qualitatives, et celles de données quantitatives."
   ]
  },
  {
   "cell_type": "code",
   "id": "c753d37d",
   "metadata": {
    "ExecuteTime": {
     "end_time": "2024-05-30T10:01:42.896351Z",
     "start_time": "2024-05-30T10:01:42.887434Z"
    }
   },
   "source": [
    "print(\"Les données quantitatives sont : PassengerId, Pclass, Age, SibSp, Parch, Fare\")\n",
    "print(\"Les données qualitatives sont : Survived, Name, Sex, Ticket, Cabin, Embarked\")"
   ],
   "outputs": [
    {
     "name": "stdout",
     "output_type": "stream",
     "text": [
      "Les données quantitatives sont : PassengerId, Pclass, Age, SibSp, Parch, Fare\n",
      "Les données qualitatives sont : Survived, Name, Sex, Ticket, Cabin, Embarked\n"
     ]
    }
   ],
   "execution_count": 7
  },
  {
   "cell_type": "markdown",
   "id": "69c4bee2",
   "metadata": {},
   "source": [
    "5. Affichez les statistiques de base sur les colonnes quantitatives du dataset. \n",
    "Quelles informations pouvez-vous en retirer ? Pour chaque attribut, cherchez au moins une information pertinente que vous pouvez déduire de vos observations."
   ]
  },
  {
   "cell_type": "code",
   "id": "82ebfbb6",
   "metadata": {
    "ExecuteTime": {
     "end_time": "2024-05-30T10:01:44.893589Z",
     "start_time": "2024-05-30T10:01:42.899334Z"
    }
   },
   "source": [
    "quantitative_data = titanic_data[['PassengerId', 'Pclass', 'Age', 'SibSp', 'Parch', 'Fare']]\n",
    "quantitative_data.describe()"
   ],
   "outputs": [
    {
     "ename": "KeyError",
     "evalue": "\"['PassengerId', 'SibSp', 'Parch'] not in index\"",
     "output_type": "error",
     "traceback": [
      "\u001B[1;31m---------------------------------------------------------------------------\u001B[0m",
      "\u001B[1;31mKeyError\u001B[0m                                  Traceback (most recent call last)",
      "Cell \u001B[1;32mIn[8], line 1\u001B[0m\n\u001B[1;32m----> 1\u001B[0m quantitative_data \u001B[38;5;241m=\u001B[39m titanic_data[[\u001B[38;5;124m'\u001B[39m\u001B[38;5;124mPassengerId\u001B[39m\u001B[38;5;124m'\u001B[39m, \u001B[38;5;124m'\u001B[39m\u001B[38;5;124mPclass\u001B[39m\u001B[38;5;124m'\u001B[39m, \u001B[38;5;124m'\u001B[39m\u001B[38;5;124mAge\u001B[39m\u001B[38;5;124m'\u001B[39m, \u001B[38;5;124m'\u001B[39m\u001B[38;5;124mSibSp\u001B[39m\u001B[38;5;124m'\u001B[39m, \u001B[38;5;124m'\u001B[39m\u001B[38;5;124mParch\u001B[39m\u001B[38;5;124m'\u001B[39m, \u001B[38;5;124m'\u001B[39m\u001B[38;5;124mFare\u001B[39m\u001B[38;5;124m'\u001B[39m]]\n\u001B[0;32m      2\u001B[0m quantitative_data\u001B[38;5;241m.\u001B[39mdescribe()\n",
      "File \u001B[1;32m~\\AppData\\Local\\anaconda3\\Lib\\site-packages\\pandas\\core\\frame.py:3899\u001B[0m, in \u001B[0;36mDataFrame.__getitem__\u001B[1;34m(self, key)\u001B[0m\n\u001B[0;32m   3897\u001B[0m     \u001B[38;5;28;01mif\u001B[39;00m is_iterator(key):\n\u001B[0;32m   3898\u001B[0m         key \u001B[38;5;241m=\u001B[39m \u001B[38;5;28mlist\u001B[39m(key)\n\u001B[1;32m-> 3899\u001B[0m     indexer \u001B[38;5;241m=\u001B[39m \u001B[38;5;28mself\u001B[39m\u001B[38;5;241m.\u001B[39mcolumns\u001B[38;5;241m.\u001B[39m_get_indexer_strict(key, \u001B[38;5;124m\"\u001B[39m\u001B[38;5;124mcolumns\u001B[39m\u001B[38;5;124m\"\u001B[39m)[\u001B[38;5;241m1\u001B[39m]\n\u001B[0;32m   3901\u001B[0m \u001B[38;5;66;03m# take() does not accept boolean indexers\u001B[39;00m\n\u001B[0;32m   3902\u001B[0m \u001B[38;5;28;01mif\u001B[39;00m \u001B[38;5;28mgetattr\u001B[39m(indexer, \u001B[38;5;124m\"\u001B[39m\u001B[38;5;124mdtype\u001B[39m\u001B[38;5;124m\"\u001B[39m, \u001B[38;5;28;01mNone\u001B[39;00m) \u001B[38;5;241m==\u001B[39m \u001B[38;5;28mbool\u001B[39m:\n",
      "File \u001B[1;32m~\\AppData\\Local\\anaconda3\\Lib\\site-packages\\pandas\\core\\indexes\\base.py:6115\u001B[0m, in \u001B[0;36mIndex._get_indexer_strict\u001B[1;34m(self, key, axis_name)\u001B[0m\n\u001B[0;32m   6112\u001B[0m \u001B[38;5;28;01melse\u001B[39;00m:\n\u001B[0;32m   6113\u001B[0m     keyarr, indexer, new_indexer \u001B[38;5;241m=\u001B[39m \u001B[38;5;28mself\u001B[39m\u001B[38;5;241m.\u001B[39m_reindex_non_unique(keyarr)\n\u001B[1;32m-> 6115\u001B[0m \u001B[38;5;28mself\u001B[39m\u001B[38;5;241m.\u001B[39m_raise_if_missing(keyarr, indexer, axis_name)\n\u001B[0;32m   6117\u001B[0m keyarr \u001B[38;5;241m=\u001B[39m \u001B[38;5;28mself\u001B[39m\u001B[38;5;241m.\u001B[39mtake(indexer)\n\u001B[0;32m   6118\u001B[0m \u001B[38;5;28;01mif\u001B[39;00m \u001B[38;5;28misinstance\u001B[39m(key, Index):\n\u001B[0;32m   6119\u001B[0m     \u001B[38;5;66;03m# GH 42790 - Preserve name from an Index\u001B[39;00m\n",
      "File \u001B[1;32m~\\AppData\\Local\\anaconda3\\Lib\\site-packages\\pandas\\core\\indexes\\base.py:6179\u001B[0m, in \u001B[0;36mIndex._raise_if_missing\u001B[1;34m(self, key, indexer, axis_name)\u001B[0m\n\u001B[0;32m   6176\u001B[0m     \u001B[38;5;28;01mraise\u001B[39;00m \u001B[38;5;167;01mKeyError\u001B[39;00m(\u001B[38;5;124mf\u001B[39m\u001B[38;5;124m\"\u001B[39m\u001B[38;5;124mNone of [\u001B[39m\u001B[38;5;132;01m{\u001B[39;00mkey\u001B[38;5;132;01m}\u001B[39;00m\u001B[38;5;124m] are in the [\u001B[39m\u001B[38;5;132;01m{\u001B[39;00maxis_name\u001B[38;5;132;01m}\u001B[39;00m\u001B[38;5;124m]\u001B[39m\u001B[38;5;124m\"\u001B[39m)\n\u001B[0;32m   6178\u001B[0m not_found \u001B[38;5;241m=\u001B[39m \u001B[38;5;28mlist\u001B[39m(ensure_index(key)[missing_mask\u001B[38;5;241m.\u001B[39mnonzero()[\u001B[38;5;241m0\u001B[39m]]\u001B[38;5;241m.\u001B[39munique())\n\u001B[1;32m-> 6179\u001B[0m \u001B[38;5;28;01mraise\u001B[39;00m \u001B[38;5;167;01mKeyError\u001B[39;00m(\u001B[38;5;124mf\u001B[39m\u001B[38;5;124m\"\u001B[39m\u001B[38;5;132;01m{\u001B[39;00mnot_found\u001B[38;5;132;01m}\u001B[39;00m\u001B[38;5;124m not in index\u001B[39m\u001B[38;5;124m\"\u001B[39m)\n",
      "\u001B[1;31mKeyError\u001B[0m: \"['PassengerId', 'SibSp', 'Parch'] not in index\""
     ]
    }
   ],
   "execution_count": 8
  },
  {
   "cell_type": "markdown",
   "id": "46384afa",
   "metadata": {},
   "source": [
    "6. Sur une figure avec 6 sous-figures, proposez un histogramme pour visualiser la répartition des valeurs sur les attributs suivants : Survived, Pclass, Sex, Embarked, Age, Fare. Pour chaque figure, quelle(s) observation(s) pouvez-vous faire ?"
   ]
  },
  {
   "cell_type": "code",
   "id": "94ddbac5",
   "metadata": {
    "ExecuteTime": {
     "end_time": "2024-05-30T10:01:44.897543Z",
     "start_time": "2024-05-30T10:01:44.896550Z"
    }
   },
   "source": [
    "fig, axes = plt.subplots(2, 3, figsize=(10, 10))\n",
    "\n",
    "\n",
    "survivor_counts_data = titanic_data.groupby(by='Survived')['PassengerId'].count()\n",
    "sub00 = axes[0, 0] \n",
    "sub00.bar(survivor_counts_data.index.values, survivor_counts_data.values)\n",
    "sub00.set_title(\"Nombre de passagers survivants\")\n",
    "sub00.set_xlabel(\"État du passager\")\n",
    "sub00.set_ylabel(\"0 = Décès / 1 = Survivant\")\n",
    "sub00.set_xticks(survivor_counts_data.index.values)\n",
    "\n",
    "pclass_counts_data = titanic_data.groupby(by='Pclass')['PassengerId'].count()\n",
    "sub01 = axes[0, 1]\n",
    "sub01.bar(pclass_counts_data.index.values, pclass_counts_data.values)\n",
    "sub01.set_title(\"Répartition par classe\")\n",
    "sub01.set_xlabel(\"Classe\")\n",
    "sub01.set_xticks(pclass_counts_data.index.values)\n",
    "\n",
    "gender_counts_data = titanic_data.groupby(by='Sex')['PassengerId'].count()\n",
    "sub02 = axes[0, 2]\n",
    "sub02.bar(gender_counts_data.index.values, gender_counts_data.values)\n",
    "sub02.set_title(\"Répartition par genre\")\n",
    "sub02.set_xlabel(\"Genre\")\n",
    "sub02.set_xticks(gender_counts_data.index.values)\n",
    "\n",
    "embarked_counts_data = titanic_data.groupby(by='Embarked')['PassengerId'].count()\n",
    "sub10 = axes[1, 0]\n",
    "sub10.bar(embarked_counts_data.index.values, embarked_counts_data.values)\n",
    "sub10.set_title(\"Répartition par port d'embarquement\")\n",
    "sub10.set_xlabel(\"Port d'embarquement\")\n",
    "sub10.set_xticks(embarked_counts_data.index.values)\n",
    "\n",
    "age_counts_data = titanic_data.groupby(by='Age')['PassengerId'].count()\n",
    "sub11 = axes[1, 1]\n",
    "sub11.bar(age_counts_data.index.values, age_counts_data.values)\n",
    "sub11.set_title(\"Répartition par âge\")\n",
    "sub11.set_xlabel(\"Âge\")\n",
    "\n",
    "fare_counts_data = titanic_data.groupby(by='Fare')['PassengerId'].count()\n",
    "sub12 = axes[1, 2]\n",
    "sub12.bar(fare_counts_data.index.values, fare_counts_data.values)\n",
    "sub12.set_title(\"Répartition par prix\")\n",
    "sub12.set_xlabel(\"Prix\")"
   ],
   "outputs": [],
   "execution_count": null
  },
  {
   "cell_type": "markdown",
   "id": "620fbbba",
   "metadata": {},
   "source": [
    "7. Sur un même graphique, représentez, pour chaque genre, le nombre de personnes ayant survécu. Que pouvez-vous en déduire ? Le genre d'un passager vous parait-il pertinent pour qu'un modèle d'apprentissage puisse prédire si ce passager a survécu ?"
   ]
  },
  {
   "cell_type": "code",
   "id": "f58cb499",
   "metadata": {
    "ExecuteTime": {
     "end_time": "2024-05-30T10:01:44.898536Z",
     "start_time": "2024-05-30T10:01:44.898536Z"
    }
   },
   "source": [
    "survived_indexes = titanic_data.groupby('Survived').count()[['PassengerId']].index\n",
    "survived_female_values = titanic_data[titanic_data['Sex'] == 'female'].groupby('Survived').count()[['PassengerId']].values.flatten()\n",
    "survived_male_values = titanic_data[titanic_data['Sex'] == 'male'].groupby('Survived').count()[['PassengerId']].values.flatten()\n",
    "\n",
    "width = 0.20\n",
    "\n",
    "fig, ax = plt.subplots(layout='constrained')\n",
    "\n",
    "ax.bar(survived_indexes-width/2, survived_female_values, width, label='Femme')\n",
    "ax.bar(survived_indexes+width/2, survived_male_values, width, label='Homme')\n",
    "\n",
    "ax.set_xticks(survived_indexes)\n",
    "ax.legend(loc='upper right')\n",
    "    \n",
    "plt.xlabel('État du passager')\n",
    "plt.ylabel('Nombre de passagers')\n",
    "plt.title('Nombre de passagers par survie et genre')\n",
    "\n",
    "plt.show()"
   ],
   "outputs": [],
   "execution_count": null
  },
  {
   "cell_type": "markdown",
   "id": "93a6b71b",
   "metadata": {},
   "source": [
    "Il y a plus de personnes décédées chez les hommes. L'état du passager, à savoir s'il est mort ou vivant, nous donne donc une bonne indication sur son genre. Un premier lien peut donc surgir de cette statistique. Chez les survivants la distinction est moins importante, il faudra combiner avec d'autres champs pour pouvoir obtenir une information plus précise."
   ]
  },
  {
   "cell_type": "markdown",
   "id": "412e2e95",
   "metadata": {},
   "source": [
    "8. En vous basant sur une visualisation, observez-vous une corrélation entre certains attributs ? Que pouvez-vous en déduire pour un futur modèle d'apprentissage ?"
   ]
  },
  {
   "cell_type": "code",
   "id": "48d8ee62",
   "metadata": {},
   "source": [
    "sns.heatmap(titanic_data[['Survived', 'Pclass', 'Age', 'SibSp', 'Fare']].corr())"
   ],
   "outputs": [],
   "execution_count": null
  },
  {
   "cell_type": "markdown",
   "id": "03167eee",
   "metadata": {},
   "source": [
    "- Il y a une grande corrélation entre la classe et tarif du billet, ce qui est tout à fait logique car les billets en première classe sont plus chers qu'en troisième.\n",
    "- Il y en a également une sur la survie et la classe du passager, ce qui est aussi cohérent car les personnes des classes supérieures ont du être évacuées en premier.\n",
    "- Il y a une corrélation entre l'âge et la classe, ce qui apparaît également logique car les personnes âgées sont souvent plus aisées.\n",
    "- Il y a aussi une légère corrélation est l'âge et le nombre de frères et soeurs, ce qui est encore logique car leur âge sont moins espacés qu'entre deux personnes inconnues. "
   ]
  },
  {
   "cell_type": "markdown",
   "id": "ae39b80c",
   "metadata": {},
   "source": [
    "9. En vous basant sur vos observations de la visualisation précédente, confirmez vos impressions en proposant deux visualisations. Par exemple, si vous avez observé une corrélation entre un attribut A et un attribut B, mettez en valeur le fait que les mêmes valeurs de A sont souvent trouvées avec les mêmes valeurs de B. "
   ]
  },
  {
   "cell_type": "code",
   "id": "987a4b5f",
   "metadata": {},
   "source": [
    "survived_indexes = titanic_data.groupby('Survived').count()[['PassengerId']].index\n",
    "survived_pclass_1_values = titanic_data[titanic_data['Pclass'] == 1].groupby('Survived').count()[['PassengerId']].values.flatten()\n",
    "survived_pclass_2_values = titanic_data[titanic_data['Pclass'] == 2].groupby('Survived').count()[['PassengerId']].values.flatten()\n",
    "survived_pclass_3_values = titanic_data[titanic_data['Pclass'] == 3].groupby('Survived').count()[['PassengerId']].values.flatten()\n",
    "\n",
    "width = 0.20\n",
    "\n",
    "fig, ax = plt.subplots(layout='constrained')\n",
    "\n",
    "ax.bar(survived_indexes-width, survived_pclass_1_values, width, label='1')\n",
    "ax.bar(survived_indexes, survived_pclass_2_values, width, label='2')\n",
    "ax.bar(survived_indexes+width, survived_pclass_3_values, width, label='3')\n",
    "\n",
    "ax.set_xticks(survived_indexes)\n",
    "ax.legend(loc='upper right')\n",
    "    \n",
    "plt.xlabel('État du passager')\n",
    "plt.ylabel('Compte')\n",
    "plt.title('Nombre de passagers par survie et classe')\n",
    "\n",
    "plt.show()"
   ],
   "outputs": [],
   "execution_count": null
  },
  {
   "cell_type": "markdown",
   "id": "5a7796ac",
   "metadata": {},
   "source": [
    "Les passagers de classes moins élevées ont eu moins de chance de survie."
   ]
  },
  {
   "cell_type": "code",
   "id": "9d66606a",
   "metadata": {},
   "source": [
    "# Proposition 2 : âge et classe des passagers\n",
    "sns.histplot(data=titanic_data, x='Age', hue='Pclass', multiple='dodge', bins=range(1, 110, 10))"
   ],
   "outputs": [],
   "execution_count": null
  },
  {
   "cell_type": "markdown",
   "id": "7a06a68b",
   "metadata": {},
   "source": [
    "Les passagers les plus âgés sont souvent dans les classes les plus aisées."
   ]
  },
  {
   "cell_type": "markdown",
   "id": "67adc89f",
   "metadata": {},
   "source": [
    "10. Mettez-vous à présent dans le rôle d'un data analyst face à un nouveau jeu de données : quelles autres visualisations vous paraissent nécessaires ? Proposez au moins trois visualisations qui vous semblent pertinentes. Gardez en tête que l'objectif sur ce jeu de données sera de réussir à prédire si un passager à survécu ou non."
   ]
  },
  {
   "cell_type": "markdown",
   "id": "eb83c852",
   "metadata": {},
   "source": [
    "Il va falloir regarder la survie par classe d'âge, la survie par rapport au nombre de membres de la famille et l'âge par rapport au prix du ticket."
   ]
  },
  {
   "cell_type": "markdown",
   "id": "081aafe5",
   "metadata": {},
   "source": [
    "## Nettoyage des données\n",
    "1. Pour chaque colonne, comptez le nombre de valeurs nulles."
   ]
  },
  {
   "cell_type": "code",
   "id": "ba42c62a",
   "metadata": {},
   "source": [
    "titanic_data.isnull().sum()"
   ],
   "outputs": [],
   "execution_count": null
  },
  {
   "cell_type": "markdown",
   "id": "e5bc166d",
   "metadata": {},
   "source": [
    "### Traitement du port d'embarquement\n",
    "\n",
    "2. Les valeurs manquantes du port d'embarquement sont très peu nombreuses. De plus, s'agissant d'un attribut discret, nous pouvons considérer l'information de valeur nulle comme une valeur possible supplémentaire. Commencer par affichez les lignes pour lesquelles le port d'embarquement n'est pas renseigné."
   ]
  },
  {
   "cell_type": "code",
   "id": "5219c39a",
   "metadata": {},
   "source": [
    "titanic_data[titanic_data['Embarked'].isnull()]"
   ],
   "outputs": [],
   "execution_count": null
  },
  {
   "cell_type": "markdown",
   "id": "363787e8",
   "metadata": {},
   "source": [
    "3. Remplacez ces valeurs nulles par la valeur 'U' (pour unknown). Vérifiez vos résultats en réaffichant les lignes obtenues ci-dessus :"
   ]
  },
  {
   "cell_type": "code",
   "id": "2be8a958",
   "metadata": {},
   "source": [
    "titanic_data['Embarked'] = titanic_data['Embarked'].replace(np.nan, 'U')\n",
    "titanic_data[(titanic_data['PassengerId'] == 62) | (titanic_data['PassengerId'] == 830)]"
   ],
   "outputs": [],
   "execution_count": null
  },
  {
   "cell_type": "markdown",
   "id": "a5e22413",
   "metadata": {},
   "source": [
    "### Traitement du numéro de cabine\n",
    "\n",
    "4. Le numéro de cabine est l'attribut qui contient le plus de valeurs nulles. Cet attribut n'a pas de lien évident avec la survie des passagers. Supprimer cette colonne dans votre dataframe."
   ]
  },
  {
   "cell_type": "code",
   "id": "aef1705c",
   "metadata": {},
   "source": [
    "titanic_data.drop(['Cabin'], axis=1)"
   ],
   "outputs": [],
   "execution_count": null
  },
  {
   "cell_type": "markdown",
   "id": "112f1631",
   "metadata": {},
   "source": [
    "### Traitement de l'âge\n",
    "5. L'âge est un attribut plus délicat à traiter : il contient un nombre conséquent de valeur nulle, mais il est très pertinent à prendre en compte pour la prédiction de la survie d'un passager, ces deux informations étant assez fortement corrélées. Il existe plein de stratégies pour remplacer ces valeurs manquantes :\n",
    "* Mettre une valeur aléatoire '(tirée entre le min et le max)\n",
    "* Remplacer par la moyenne\n",
    "* Remplacer par une valeur déterminée en fonction des autres paramètres (classe, age, etc)\n",
    "\n",
    "Commencer par calculer pour chaque genre et pour chaque classe, l'âge moyen (6 valeurs à obtenir au total)."
   ]
  },
  {
   "cell_type": "code",
   "id": "2b2a06ff",
   "metadata": {},
   "source": [
    "titanic_data[['Age', 'Sex', 'Pclass']].groupby(by=['Sex', 'Pclass']).mean()"
   ],
   "outputs": [],
   "execution_count": null
  },
  {
   "cell_type": "markdown",
   "id": "e42013d7",
   "metadata": {},
   "source": [
    "6. Pour chaque ligne du jeu de données, si l'âge est manquant, remplacez la valeur nulle par une des valeurs calculées ci-dessus. basez-vous sur le genre et la classe du passager pour choisir la bonne valeur. "
   ]
  },
  {
   "cell_type": "code",
   "id": "3daa4cc6",
   "metadata": {
    "ExecuteTime": {
     "end_time": "2024-05-30T10:02:27.946816Z",
     "start_time": "2024-05-30T10:02:27.843729Z"
    }
   },
   "source": [
    "condition_sex_female_pclass_1 = (titanic_data['Age'].isnull()) & (titanic_data['Sex'] == 'female') & (titanic_data['Pclass'] == 1)\n",
    "mean_age_sex_female_pclass_1 = titanic_data[(titanic_data['Age'].notnull()) & (titanic_data['Sex'] == 'female') & (titanic_data['Pclass'] == 1)]['Age'].mean()\n",
    "titanic_data.loc[condition_sex_female_pclass_1, 'Age'] = mean_age_sex_female_pclass_1\n",
    "\n",
    "condition_sex_female_pclass_2 = (titanic_data['Age'].isnull()) & (titanic_data['Sex'] == 'female') & (titanic_data['Pclass'] == 2)\n",
    "mean_age_sex_female_pclass_2 = titanic_data[(titanic_data['Age'].notnull()) & (titanic_data['Sex'] == 'female') & (titanic_data['Pclass'] == 2)]['Age'].mean()\n",
    "titanic_data.loc[condition_sex_female_pclass_2, 'Age'] = mean_age_sex_female_pclass_2\n",
    "\n",
    "condition_sex_female_pclass_3 = (titanic_data['Age'].isnull()) & (titanic_data['Sex'] == 'female') & (titanic_data['Pclass'] == 3)\n",
    "mean_age_sex_female_pclass_3 = titanic_data[(titanic_data['Age'].notnull()) & (titanic_data['Sex'] == 'female') & (titanic_data['Pclass'] == 3)]['Age'].mean()\n",
    "titanic_data.loc[condition_sex_female_pclass_3, 'Age'] = mean_age_sex_female_pclass_3\n",
    "\n",
    "condition_sex_male_pclass_1 = (titanic_data['Age'].isnull()) & (titanic_data['Sex'] == 'male') & (titanic_data['Pclass'] == 1)\n",
    "mean_age_sex_male_pclass_1 = titanic_data[(titanic_data['Age'].notnull()) & (titanic_data['Sex'] == 'male') & (titanic_data['Pclass'] == 1)]['Age'].mean()\n",
    "titanic_data.loc[condition_sex_male_pclass_1, 'Age'] = mean_age_sex_male_pclass_1\n",
    "\n",
    "condition_sex_male_pclass_2 = (titanic_data['Age'].isnull()) & (titanic_data['Sex'] == 'male') & (titanic_data['Pclass'] == 2)\n",
    "mean_age_sex_male_pclass_2 = titanic_data[(titanic_data['Age'].notnull()) & (titanic_data['Sex'] == 'male') & (titanic_data['Pclass'] == 2)]['Age'].mean()\n",
    "titanic_data.loc[condition_sex_male_pclass_2, 'Age'] = mean_age_sex_male_pclass_2\n",
    "\n",
    "condition_sex_male_pclass_3 = (titanic_data['Age'].isnull()) & (titanic_data['Sex'] == 'male') & (titanic_data['Pclass'] == 3)\n",
    "mean_age_sex_male_pclass_3 = titanic_data[(titanic_data['Age'].notnull()) & (titanic_data['Sex'] == 'male') & (titanic_data['Pclass'] == 3)]['Age'].mean()\n",
    "titanic_data.loc[condition_sex_male_pclass_3, 'Age'] = mean_age_sex_male_pclass_3"
   ],
   "outputs": [
    {
     "ename": "KeyError",
     "evalue": "'Sex'",
     "output_type": "error",
     "traceback": [
      "\u001B[1;31m---------------------------------------------------------------------------\u001B[0m",
      "\u001B[1;31mKeyError\u001B[0m                                  Traceback (most recent call last)",
      "File \u001B[1;32m~\\AppData\\Local\\anaconda3\\Lib\\site-packages\\pandas\\core\\indexes\\base.py:3791\u001B[0m, in \u001B[0;36mIndex.get_loc\u001B[1;34m(self, key)\u001B[0m\n\u001B[0;32m   3790\u001B[0m \u001B[38;5;28;01mtry\u001B[39;00m:\n\u001B[1;32m-> 3791\u001B[0m     \u001B[38;5;28;01mreturn\u001B[39;00m \u001B[38;5;28mself\u001B[39m\u001B[38;5;241m.\u001B[39m_engine\u001B[38;5;241m.\u001B[39mget_loc(casted_key)\n\u001B[0;32m   3792\u001B[0m \u001B[38;5;28;01mexcept\u001B[39;00m \u001B[38;5;167;01mKeyError\u001B[39;00m \u001B[38;5;28;01mas\u001B[39;00m err:\n",
      "File \u001B[1;32mindex.pyx:152\u001B[0m, in \u001B[0;36mpandas._libs.index.IndexEngine.get_loc\u001B[1;34m()\u001B[0m\n",
      "File \u001B[1;32mindex.pyx:181\u001B[0m, in \u001B[0;36mpandas._libs.index.IndexEngine.get_loc\u001B[1;34m()\u001B[0m\n",
      "File \u001B[1;32mpandas\\_libs\\hashtable_class_helper.pxi:7080\u001B[0m, in \u001B[0;36mpandas._libs.hashtable.PyObjectHashTable.get_item\u001B[1;34m()\u001B[0m\n",
      "File \u001B[1;32mpandas\\_libs\\hashtable_class_helper.pxi:7088\u001B[0m, in \u001B[0;36mpandas._libs.hashtable.PyObjectHashTable.get_item\u001B[1;34m()\u001B[0m\n",
      "\u001B[1;31mKeyError\u001B[0m: 'Sex'",
      "\nThe above exception was the direct cause of the following exception:\n",
      "\u001B[1;31mKeyError\u001B[0m                                  Traceback (most recent call last)",
      "Cell \u001B[1;32mIn[9], line 1\u001B[0m\n\u001B[1;32m----> 1\u001B[0m condition_sex_female_pclass_1 \u001B[38;5;241m=\u001B[39m (titanic_data[\u001B[38;5;124m'\u001B[39m\u001B[38;5;124mAge\u001B[39m\u001B[38;5;124m'\u001B[39m]\u001B[38;5;241m.\u001B[39misnull()) \u001B[38;5;241m&\u001B[39m (titanic_data[\u001B[38;5;124m'\u001B[39m\u001B[38;5;124mSex\u001B[39m\u001B[38;5;124m'\u001B[39m] \u001B[38;5;241m==\u001B[39m \u001B[38;5;124m'\u001B[39m\u001B[38;5;124mfemale\u001B[39m\u001B[38;5;124m'\u001B[39m) \u001B[38;5;241m&\u001B[39m (titanic_data[\u001B[38;5;124m'\u001B[39m\u001B[38;5;124mPclass\u001B[39m\u001B[38;5;124m'\u001B[39m] \u001B[38;5;241m==\u001B[39m \u001B[38;5;241m1\u001B[39m)\n\u001B[0;32m      2\u001B[0m mean_age_sex_female_pclass_1 \u001B[38;5;241m=\u001B[39m titanic_data[(titanic_data[\u001B[38;5;124m'\u001B[39m\u001B[38;5;124mAge\u001B[39m\u001B[38;5;124m'\u001B[39m]\u001B[38;5;241m.\u001B[39mnotnull()) \u001B[38;5;241m&\u001B[39m (titanic_data[\u001B[38;5;124m'\u001B[39m\u001B[38;5;124mSex\u001B[39m\u001B[38;5;124m'\u001B[39m] \u001B[38;5;241m==\u001B[39m \u001B[38;5;124m'\u001B[39m\u001B[38;5;124mfemale\u001B[39m\u001B[38;5;124m'\u001B[39m) \u001B[38;5;241m&\u001B[39m (titanic_data[\u001B[38;5;124m'\u001B[39m\u001B[38;5;124mPclass\u001B[39m\u001B[38;5;124m'\u001B[39m] \u001B[38;5;241m==\u001B[39m \u001B[38;5;241m1\u001B[39m)][\u001B[38;5;124m'\u001B[39m\u001B[38;5;124mAge\u001B[39m\u001B[38;5;124m'\u001B[39m]\u001B[38;5;241m.\u001B[39mmean()\n\u001B[0;32m      3\u001B[0m titanic_data\u001B[38;5;241m.\u001B[39mloc[condition_sex_female_pclass_1, \u001B[38;5;124m'\u001B[39m\u001B[38;5;124mAge\u001B[39m\u001B[38;5;124m'\u001B[39m] \u001B[38;5;241m=\u001B[39m mean_age_sex_female_pclass_1\n",
      "File \u001B[1;32m~\\AppData\\Local\\anaconda3\\Lib\\site-packages\\pandas\\core\\frame.py:3893\u001B[0m, in \u001B[0;36mDataFrame.__getitem__\u001B[1;34m(self, key)\u001B[0m\n\u001B[0;32m   3891\u001B[0m \u001B[38;5;28;01mif\u001B[39;00m \u001B[38;5;28mself\u001B[39m\u001B[38;5;241m.\u001B[39mcolumns\u001B[38;5;241m.\u001B[39mnlevels \u001B[38;5;241m>\u001B[39m \u001B[38;5;241m1\u001B[39m:\n\u001B[0;32m   3892\u001B[0m     \u001B[38;5;28;01mreturn\u001B[39;00m \u001B[38;5;28mself\u001B[39m\u001B[38;5;241m.\u001B[39m_getitem_multilevel(key)\n\u001B[1;32m-> 3893\u001B[0m indexer \u001B[38;5;241m=\u001B[39m \u001B[38;5;28mself\u001B[39m\u001B[38;5;241m.\u001B[39mcolumns\u001B[38;5;241m.\u001B[39mget_loc(key)\n\u001B[0;32m   3894\u001B[0m \u001B[38;5;28;01mif\u001B[39;00m is_integer(indexer):\n\u001B[0;32m   3895\u001B[0m     indexer \u001B[38;5;241m=\u001B[39m [indexer]\n",
      "File \u001B[1;32m~\\AppData\\Local\\anaconda3\\Lib\\site-packages\\pandas\\core\\indexes\\base.py:3798\u001B[0m, in \u001B[0;36mIndex.get_loc\u001B[1;34m(self, key)\u001B[0m\n\u001B[0;32m   3793\u001B[0m     \u001B[38;5;28;01mif\u001B[39;00m \u001B[38;5;28misinstance\u001B[39m(casted_key, \u001B[38;5;28mslice\u001B[39m) \u001B[38;5;129;01mor\u001B[39;00m (\n\u001B[0;32m   3794\u001B[0m         \u001B[38;5;28misinstance\u001B[39m(casted_key, abc\u001B[38;5;241m.\u001B[39mIterable)\n\u001B[0;32m   3795\u001B[0m         \u001B[38;5;129;01mand\u001B[39;00m \u001B[38;5;28many\u001B[39m(\u001B[38;5;28misinstance\u001B[39m(x, \u001B[38;5;28mslice\u001B[39m) \u001B[38;5;28;01mfor\u001B[39;00m x \u001B[38;5;129;01min\u001B[39;00m casted_key)\n\u001B[0;32m   3796\u001B[0m     ):\n\u001B[0;32m   3797\u001B[0m         \u001B[38;5;28;01mraise\u001B[39;00m InvalidIndexError(key)\n\u001B[1;32m-> 3798\u001B[0m     \u001B[38;5;28;01mraise\u001B[39;00m \u001B[38;5;167;01mKeyError\u001B[39;00m(key) \u001B[38;5;28;01mfrom\u001B[39;00m \u001B[38;5;21;01merr\u001B[39;00m\n\u001B[0;32m   3799\u001B[0m \u001B[38;5;28;01mexcept\u001B[39;00m \u001B[38;5;167;01mTypeError\u001B[39;00m:\n\u001B[0;32m   3800\u001B[0m     \u001B[38;5;66;03m# If we have a listlike key, _check_indexing_error will raise\u001B[39;00m\n\u001B[0;32m   3801\u001B[0m     \u001B[38;5;66;03m#  InvalidIndexError. Otherwise we fall through and re-raise\u001B[39;00m\n\u001B[0;32m   3802\u001B[0m     \u001B[38;5;66;03m#  the TypeError.\u001B[39;00m\n\u001B[0;32m   3803\u001B[0m     \u001B[38;5;28mself\u001B[39m\u001B[38;5;241m.\u001B[39m_check_indexing_error(key)\n",
      "\u001B[1;31mKeyError\u001B[0m: 'Sex'"
     ]
    }
   ],
   "execution_count": 9
  },
  {
   "cell_type": "markdown",
   "id": "cf24aa8b",
   "metadata": {},
   "source": [
    "## Préparer les données\n",
    "\n",
    "Nous entrons dans la dernière phase de traitement des données : nous allons terminer des les mettre en forme, pour qu'elles soient prêtes à être manipulées dans un processus d'apprentissage."
   ]
  },
  {
   "cell_type": "markdown",
   "id": "f2ab2605",
   "metadata": {},
   "source": [
    "# Encodage des données catégorielles\n",
    "\n",
    "1. Réaffichez les infos sur le jeu de données. Vous devez avoir 11 colonnes, toutes remplies avec 891 valeurs."
   ]
  },
  {
   "cell_type": "code",
   "id": "3ac1186f",
   "metadata": {},
   "source": [
    "titanic_data"
   ],
   "outputs": [],
   "execution_count": null
  },
  {
   "cell_type": "markdown",
   "id": "a62f568e",
   "metadata": {},
   "source": [
    "2. Trois colonnes sont liées à l'identification unique d'un passager, et ne sont pas pertinentes pour la prédiction de la survie. Supprimez ces trois colonnes de votre jeu de données."
   ]
  },
  {
   "cell_type": "code",
   "id": "a4b7d99c",
   "metadata": {},
   "source": [
    "titanic_data = titanic_data.drop(['PassengerId', 'Name', 'Ticket'], axis=1)\n",
    "titanic_data"
   ],
   "outputs": [],
   "execution_count": null
  },
  {
   "cell_type": "markdown",
   "id": "9126e8f9",
   "metadata": {},
   "source": [
    "3. Reproduisez une manipulation vue au module 3 : combinez deux colonnes relatives aux familles de passagers pour n'en faire plus qu'une. Pensez à supprimer les deux anciennes colonnes."
   ]
  },
  {
   "cell_type": "code",
   "id": "ad70a5d5",
   "metadata": {
    "scrolled": true
   },
   "source": [
    "titanic_data['TotalPeople'] = titanic_data['SibSp'] + titanic_data['Parch']\n",
    "titanic_data = titanic_data.drop(['SibSp', 'Parch'], axis=1)\n",
    "titanic_data"
   ],
   "outputs": [],
   "execution_count": null
  },
  {
   "cell_type": "markdown",
   "id": "a96edd21",
   "metadata": {},
   "source": [
    "4. Parmi les colonnes restantes, sur lesquelles un encodage one-hot vous semble pertinent ? En vous appuyant sur [la documentation de scikit-learn](https://scikit-learn.org/stable/modules/generated/sklearn.preprocessing.OneHotEncoder.html), appliquez cet encodage aux colonnes identifiées. Enfin, pensez à supprimer les anciennes colonnes.\n",
    "\n",
    "Note : pour le genre, il n'y a que deux possibilités dans ce jeu de données. Avec l'option `if_binary` de l'encodeur, vous pouvez ne générer qu'une seule colonne (l'autre s'obtenant immédiatement par déduction)."
   ]
  },
  {
   "cell_type": "code",
   "id": "f1a2026f",
   "metadata": {},
   "source": [
    "encoder = OneHotEncoder(drop='if_binary')\n",
    "\n",
    "encoded_data = np.array(encoder.fit_transform(titanic_data[['Sex', 'Embarked']]).toarray())\n",
    "encoded_labels = encoder.get_feature_names_out(['Sex', 'Embarked'])\n",
    "\n",
    "encoded_dataframe = pd.DataFrame(data=encoded_data, columns=encoded_labels)\n",
    "titanic_data = titanic_data.join(encoded_dataframe)\n",
    "titanic_data = titanic_data.drop(['Sex', 'Embarked'], axis=1)\n",
    "titanic_data"
   ],
   "outputs": [],
   "execution_count": null
  },
  {
   "cell_type": "code",
   "id": "b87a9ecb",
   "metadata": {},
   "source": [
    "# enc = OneHotEncoder(drop='if_binary')\n",
    "\n",
    "# one_hot = np.array(enc.fit_transform(titanic_data[['Sex', 'Embarked']]).toarray())\n",
    "# one_hot_label = enc.get_feature_names_out(['Sex', 'Embarked'])\n",
    "\n",
    "# df = pd.DataFrame(data=one_hot, columns=one_hot_label)\n",
    "# titanic_data = titanic_data.join(df)\n",
    "# titanic_data = titanic_data.drop(['Sex', 'Embarked'], axis=1)\n",
    "# titanic_data"
   ],
   "outputs": [],
   "execution_count": null
  },
  {
   "cell_type": "markdown",
   "id": "439cb51a",
   "metadata": {},
   "source": [
    "5. Vous devez à présent avoir un jeu de données sur 10 attributs, tous numériques (`int64` ou `float64`), sans aucune valeur nulle. Enregistrer ce jeu de données au format csv, afin de pouvoir le réutiliser par la suite. Il est inutile de sauvegarder l'index présent dans le dataframe."
   ]
  },
  {
   "cell_type": "code",
   "id": "363a15e3",
   "metadata": {},
   "source": [
    "titanic_data"
   ],
   "outputs": [],
   "execution_count": null
  },
  {
   "cell_type": "markdown",
   "id": "91ccfd1f",
   "metadata": {},
   "source": [
    "# Fin du TP !"
   ]
  }
 ],
 "metadata": {
  "kernelspec": {
   "display_name": "Python 3 (ipykernel)",
   "language": "python",
   "name": "python3"
  },
  "language_info": {
   "codemirror_mode": {
    "name": "ipython",
    "version": 3
   },
   "file_extension": ".py",
   "mimetype": "text/x-python",
   "name": "python",
   "nbconvert_exporter": "python",
   "pygments_lexer": "ipython3",
   "version": "3.11.7"
  }
 },
 "nbformat": 4,
 "nbformat_minor": 5
}
