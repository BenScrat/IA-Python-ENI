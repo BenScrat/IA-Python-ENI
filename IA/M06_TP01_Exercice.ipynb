{
 "cells": [
  {
   "cell_type": "markdown",
   "id": "0c601b14",
   "metadata": {},
   "source": [
    "# TP1 du module 6 : les algorithmes de classification\n",
    "\n",
    "Dans ce TP, nous allons mettre en pratique les principes de l'apprentissage supervisé. Objectifs :\n",
    "* Savoir mettre en place les principaux algorithmes de classification\n",
    "* Etudier l'impact de leurs paramètres sur leurs performances\n",
    "* Comparer les performances de différents algorithmes"
   ]
  },
  {
   "cell_type": "code",
   "id": "c700e8e5-eccc-4f5f-8ca4-4046de2aefcc",
   "metadata": {
    "ExecuteTime": {
     "end_time": "2024-05-29T07:07:29.120437Z",
     "start_time": "2024-05-29T07:07:28.735985Z"
    }
   },
   "source": [
    "import pandas as pd\n",
    "import matplotlib.pyplot as plt\n",
    "import seaborn as sns\n",
    "import numpy as np\n",
    "from sklearn.svm import SVC\n",
    "from sklearn.model_selection import train_test_split, GridSearchCV\n",
    "from sklearn.naive_bayes import GaussianNB\n",
    "from sklearn.metrics import accuracy_score, precision_score, recall_score,pairwise_distances\n",
    "from sklearn.tree import DecisionTreeClassifier\n",
    "from sklearn.metrics import recall_score\n",
    "from sklearn.metrics import pairwise_distances\n",
    "from sklearn.neighbors import KNeighborsClassifier\n",
    "from sklearn.linear_model import Perceptron\n",
    "from sklearn.neural_network import MLPClassifier"
   ],
   "execution_count": 1,
   "outputs": []
  },
  {
   "cell_type": "markdown",
   "id": "82e63125",
   "metadata": {},
   "source": [
    "Commencez par charger à nouveau le jeu de données Titanic, à partir du csv généré dans le TP1 du module 4. Préparez les données d'entraînement et de test qui seront utilisées par la suite."
   ]
  },
  {
   "cell_type": "code",
   "id": "79f23c2b",
   "metadata": {
    "ExecuteTime": {
     "end_time": "2024-05-29T07:07:29.145672Z",
     "start_time": "2024-05-29T07:07:29.121432Z"
    }
   },
   "source": [
    "titanic = pd.read_csv('Titanic.csv')\n",
    "titanic.head()\n",
    "\n",
    "X = titanic.drop(['Survived'], axis=1)\n",
    "y = titanic['Survived']\n",
    "\n",
    "X_train, X_test, y_train, y_test = train_test_split(X, y, test_size=0.20, random_state=0)"
   ],
   "execution_count": 2,
   "outputs": []
  },
  {
   "cell_type": "markdown",
   "id": "6f7717c4",
   "metadata": {
    "jp-MarkdownHeadingCollapsed": true
   },
   "source": [
    "## Partie 1 : découvrir Naive Bayes\n",
    "\n",
    "1. Commencez par créer un modèle basé sur Naive Bayes, sans changer les paramètres par défaut, en supposant que la répartition des données correspond à une Gaussienne (loi normale). Entraînez-le et testez-le. Quelle score (accuracy) obtenez-vous ? Que pouvez-vous dire de la précision et du rappel ? Comparez avec les scores obtenus sur les arbres de décision au module 5 : avez-vous des hypothèses pour expliquer cette différence ?"
   ]
  },
  {
   "cell_type": "code",
   "id": "dd0f1d68",
   "metadata": {
    "ExecuteTime": {
     "end_time": "2024-05-29T07:07:29.172314Z",
     "start_time": "2024-05-29T07:07:29.146664Z"
    }
   },
   "source": [
    "gnb = GaussianNB()\n",
    "\n",
    "gnb.fit(X_train, y_train)\n",
    "y_pred = gnb.predict(X_test)\n",
    "\n",
    "print(\"Accuracy :\", accuracy_score(y_test, y_pred))\n",
    "print(\"Rappel :\", recall_score(y_test, y_pred))\n",
    "print(\"Pecision :\", precision_score(y_test, y_pred))"
   ],
   "execution_count": 3,
   "outputs": []
  },
  {
   "cell_type": "markdown",
   "id": "07cde9f6-7beb-417b-b2a7-5ef4f5c50334",
   "metadata": {},
   "source": [
    "***Observation***: l'accuracy est faible"
   ]
  },
  {
   "cell_type": "markdown",
   "id": "1af14ab5",
   "metadata": {},
   "source": [
    "2. Affichez une matrice de corrélation des données du jeu d'entraînement, en y incluant un affichage textuel de la valeur de la corrélation. Voyez-vous des informations permettant d'expliquer les performance de l'algorithme Naive Bayes ?"
   ]
  },
  {
   "cell_type": "code",
   "id": "3b3d1c81",
   "metadata": {
    "ExecuteTime": {
     "end_time": "2024-05-29T07:07:29.782711Z",
     "start_time": "2024-05-29T07:07:29.176298Z"
    }
   },
   "source": [
    "sns.heatmap(titanic.corr(), annot=True)"
   ],
   "execution_count": 4,
   "outputs": []
  },
  {
   "cell_type": "markdown",
   "id": "351eae75",
   "metadata": {},
   "source": [
    "3. Proposez une représentation graphique des attributs continus, permettant de vérifier l'hypothèse que nous avons faite, selon laquelle ces données suivent une loi normale (Gaussienne)."
   ]
  },
  {
   "cell_type": "code",
   "id": "b6b5b059",
   "metadata": {
    "ExecuteTime": {
     "end_time": "2024-05-29T07:08:38.633551Z",
     "start_time": "2024-05-29T07:07:29.787693Z"
    }
   },
   "source": [
    "fig, axes= plt.subplots(1,2, figsize=(20,5))\n",
    "index=0\n",
    "for attribut in ['Age', 'Fare']:\n",
    "    sns.histplot(data=X, x=attribut, hue='Fare', kde=True, ax=axes[index])\n",
    "    index+=1"
   ],
   "execution_count": 5,
   "outputs": []
  },
  {
   "cell_type": "markdown",
   "id": "dab510d0",
   "metadata": {},
   "source": [
    "## Partie 2 : découvrir KNN"
   ]
  },
  {
   "cell_type": "markdown",
   "id": "90779015",
   "metadata": {},
   "source": [
    "1. Commencez par créer un modèle knn, en gardant le nombre de voisins par défaut (à regarder dans la documentation). Que pouvez-vous dire de l'accuracy, de la précision et du rappel ?"
   ]
  },
  {
   "cell_type": "code",
   "id": "8f8e1696",
   "metadata": {
    "ExecuteTime": {
     "end_time": "2024-05-29T07:08:38.682404Z",
     "start_time": "2024-05-29T07:08:38.638539Z"
    }
   },
   "source": [
    "knn = KNeighborsClassifier()\n",
    "\n",
    "knn.fit(X_train, y_train)\n",
    "y_pred = knn.predict(X_test)\n",
    "\n",
    "print(\"Accuracy :\", accuracy_score(y_test, y_pred))"
   ],
   "execution_count": 6,
   "outputs": []
  },
  {
   "cell_type": "markdown",
   "id": "f991f919",
   "metadata": {},
   "source": [
    "2. Nous allons maintenant observer l'impact du nombre de voisins à prendre en considération. Faite varier k entre 1 et 20. Calculez à chaque fois accuracy, précision, et rappel. Tracez l'évolution de ces trois scores en fonction de k, sur un même graphique. Que constatez-vous ? Affichez la valeur de k pour laquelle l'accuracy est la plus élevée."
   ]
  },
  {
   "cell_type": "code",
   "id": "b65bb998",
   "metadata": {
    "ExecuteTime": {
     "end_time": "2024-05-29T07:08:39.420823Z",
     "start_time": "2024-05-29T07:08:38.695371Z"
    }
   },
   "source": [
    "accuracy = []\n",
    "rappel = []\n",
    "precision = []\n",
    "\n",
    "for k in range(1,21):\n",
    "    knn = KNeighborsClassifier(n_neighbors=k)\n",
    "    knn.fit(X_train, y_train)\n",
    "    y_pred = knn.predict(X_test)\n",
    "    accuracy.append(accuracy_score(y_test, y_pred))\n",
    "    rappel.append(recall_score(y_test, y_pred))\n",
    "    precision.append(precision_score(y_test, y_pred))\n",
    "    \n",
    "plt.plot(range(1,21),accuracy, marker='o', label='Accuracy', color='b')\n",
    "plt.plot(range(1,21),rappel, marker='o', label='Recall', color='g')\n",
    "plt.plot(range(1,21),precision, marker='o', label='Precision', color='r')\n",
    "plt.xticks(range(1, 21))\n",
    "plt.xlabel(\"P\")\n",
    "plt.legend()\n",
    "plt.show()\n",
    "print(rappel)"
   ],
   "execution_count": 7,
   "outputs": []
  },
  {
   "cell_type": "markdown",
   "id": "a3b03725-af9c-4116-a9f6-f519ad74f50e",
   "metadata": {},
   "source": [
    "***Observetion*** : L'accuracy estla plus eleve pour le k=19"
   ]
  },
  {
   "cell_type": "markdown",
   "id": "18ec66e2",
   "metadata": {},
   "source": [
    "3. En prenant la valeur de k qui vous semble la plus pertinente, faite varier la dimension (p) utilisée pour calculer la distance de Minkowski entre deux données. Cette distance a-t'elle un fort impact sur les résultats d'accuracy obtenus ? Montrez-le en montrant l'évolution de ce score en fonction de p (faire varier entre 1 et 10). Ajoutez également la précision et le rappel."
   ]
  },
  {
   "cell_type": "code",
   "id": "ce6b99d8",
   "metadata": {
    "ExecuteTime": {
     "end_time": "2024-05-29T07:08:39.823298Z",
     "start_time": "2024-05-29T07:08:39.423810Z"
    }
   },
   "source": [
    "accuracy = []\n",
    "rappel = []\n",
    "precision = []\n",
    "for p in range(1,11):\n",
    "    knn = KNeighborsClassifier(n_neighbors=3, p=p)\n",
    "    knn.fit(X_train, y_train)\n",
    "    y_pred = knn.predict(X_test)\n",
    "    accuracy.append(accuracy_score(y_test, y_pred))\n",
    "    rappel.append(recall_score(y_test, y_pred))\n",
    "    precision.append(precision_score(y_test, y_pred))\n",
    "\n",
    "plt.plot(range(1,11),accuracy, marker='o', label='Accuracy', color='b')\n",
    "plt.plot(range(1,11),rappel, marker='o', label='Recall', color='g')\n",
    "plt.plot(range(1,11),precision, marker='o', label='Precision', color='r')\n",
    "plt.xticks(range(1, 11))\n",
    "plt.xlabel(\"P\")\n",
    "plt.legend()\n",
    "plt.show()\n",
    "print(accuracy)"
   ],
   "execution_count": 8,
   "outputs": []
  },
  {
   "cell_type": "markdown",
   "id": "0a7c6024",
   "metadata": {},
   "source": [
    "## Partie 3 : découvrir les SVM\n",
    "\n",
    "1. Créez un modèle de classification basée sur les machines à vecteur de support. Dans un premier temps, gardez les options par défaut. Que pouvez-vous dire des performances obtenues (accuracy, précision, rappel) ?"
   ]
  },
  {
   "cell_type": "code",
   "id": "3b136dbf",
   "metadata": {
    "ExecuteTime": {
     "end_time": "2024-05-29T07:08:39.862192Z",
     "start_time": "2024-05-29T07:08:39.825287Z"
    }
   },
   "source": [
    "svm = SVC()\n",
    "svm.fit(X_train, y_train)\n",
    "y_pred = svm.predict(X_test) \n",
    "print(\"Accuracy :\", accuracy_score(y_test, y_pred))\n",
    "print(\"Rappel :\", recall_score(y_test, y_pred))\n",
    "print(\"Precision :\", precision_score(y_test, y_pred))"
   ],
   "execution_count": 9,
   "outputs": []
  },
  {
   "cell_type": "markdown",
   "id": "905b31a7",
   "metadata": {},
   "source": [
    "2. Testez les différents noyaux disponibles pour l'algorithme SVM (linéaire, polynomial, rbf et sigmoïde). Représentez graphiquement l'accuracy, la précision et le rappel, pour chaque noyau. Il y en a t'il un qui semble plus pertinent que les autres ? Affichez-le, ainsi que les scores obtenus pour ce noyau."
   ]
  },
  {
   "cell_type": "code",
   "id": "e68429cd",
   "metadata": {
    "ExecuteTime": {
     "end_time": "2024-05-29T07:08:47.235333Z",
     "start_time": "2024-05-29T07:08:39.863189Z"
    }
   },
   "source": [
    "kernels = [\"linear\",\"poly\",\"rbf\",\"sigmoid\"]\n",
    "accuracy = []\n",
    "rappel = []\n",
    "precision = []\n",
    "\n",
    "for kernel in kernels:\n",
    "    svm = SVC(kernel=kernel)\n",
    "    svm.fit(X_train, y_train)\n",
    "    y_pred = svm.predict(X_test) \n",
    "    accuracy.append(accuracy_score(y_test, y_pred))\n",
    "    rappel.append(recall_score(y_test, y_pred))\n",
    "    precision.append(precision_score(y_test, y_pred))\n",
    "\n",
    "\n",
    "print(accuracy)\n",
    "print(rappel)\n",
    "print(precision)\n",
    "plt.plot(kernels, accuracy, marker='o', label='Accuracy', color='b')\n",
    "plt.plot(kernels, rappel, marker='o', label='Recall', color='g')\n",
    "plt.plot(kernels, precision, marker='o', label='Precision', color='r')\n",
    "plt.xlabel(\"P\")\n",
    "plt.legend()\n",
    "plt.show()"
   ],
   "execution_count": 10,
   "outputs": []
  },
  {
   "cell_type": "markdown",
   "id": "014b5138",
   "metadata": {},
   "source": [
    "3. Nous allons essayer d'améliorer les performances obtenues avec le noyau polynomial. Utilisez ce noyau, et faites varier le degré du polynôme utilisé de 1 à 10. Représentez graphiquement l'accuracy, la précision et le rappel, en fonction du degré du polynôme. Il y en a t'il un qui semble plus pertinent que les autres ? Affichez-le, ainsi que les scores obtenus pour cette valeur. Comparez avec le meilleur score obtenu à la question précédente."
   ]
  },
  {
   "cell_type": "code",
   "id": "544318b0",
   "metadata": {
    "ExecuteTime": {
     "end_time": "2024-05-29T07:09:21.438868Z",
     "start_time": "2024-05-29T07:08:47.238323Z"
    }
   },
   "source": [
    "accuracy = []\n",
    "rappel = []\n",
    "precision = []\n",
    "\n",
    "for d in range(1,11):\n",
    "    svm = SVC(kernel='poly', degree=d)\n",
    "    svm.fit(X_train, y_train)\n",
    "    y_pred = svm.predict(X_test) \n",
    "    accuracy.append(svm.score(X_test, y_test))\n",
    "    rappel.append(recall_score(y_test, y_pred))\n",
    "    precision.append(precision_score(y_test, y_pred))\n",
    "\n",
    "\n",
    "print(accuracy)\n",
    "print(rappel)\n",
    "print(precision)\n",
    "plt.plot(range(1,11), accuracy, marker='o', label='Accuracy', color='b')\n",
    "plt.plot(range(1,11), rappel, marker='o', label='Recall', color='g')\n",
    "plt.plot(range(1,11), precision, marker='o', label='Precision', color='r')\n",
    "plt.xlabel(\"D\")\n",
    "plt.xticks(range(1, 11))\n",
    "plt.legend()\n",
    "plt.show()"
   ],
   "execution_count": 11,
   "outputs": []
  },
  {
   "cell_type": "markdown",
   "id": "25f11b31",
   "metadata": {},
   "source": [
    "## Partie 4 : découvrir les réseaux de neurones"
   ]
  },
  {
   "cell_type": "markdown",
   "id": "77448c8c",
   "metadata": {},
   "source": [
    "1. Commençons par étudier le réseau le plus simple : un perceptron. A l'aide de la classe `sklearn.linear_model.Perceptron`, créez un perceptron, en gardant les options par défaut. Affichez accuracy, précision et rappel : que pensez-vous de ces performances ?"
   ]
  },
  {
   "cell_type": "code",
   "id": "0d2620da",
   "metadata": {
    "ExecuteTime": {
     "end_time": "2024-05-29T07:09:21.463912Z",
     "start_time": "2024-05-29T07:09:21.441853Z"
    }
   },
   "source": [
    "percp = Perceptron()\n",
    "percp.fit(X_train, y_train)\n",
    "y_pred = percp.predict(X_test) \n",
    "print(\"Accuracy :\", percp.score(X_test, y_test))\n",
    "print(\"Rappel :\", recall_score(y_test, y_pred))\n",
    "print(\"Precision :\", precision_score(y_test, y_pred))"
   ],
   "execution_count": 12,
   "outputs": []
  },
  {
   "cell_type": "markdown",
   "id": "bda13ed8",
   "metadata": {},
   "source": [
    "2. Regardez la documentation pour créer un réseau de neurones (`sklearn.neural_network.MLPClassifier`) : quelle est la structure d'un réseau de neurones par défaut avec scikit-learn ? Combien de couches cachées ? Combien de neurones par couche ?"
   ]
  },
  {
   "cell_type": "markdown",
   "id": "d2647405-3b66-47dd-a7b1-6ed1c0c91732",
   "metadata": {},
   "source": [
    "***Nombre de couche***: 1\n",
    "***Nombre de neuronne***: 100"
   ]
  },
  {
   "cell_type": "markdown",
   "id": "f4ae8d40",
   "metadata": {},
   "source": [
    "2. Créer un réseau de neurones, en gardant ces options par défaut. Affichez accuracy, précision et rappel : que pensez-vous de ces performances, notamment en comparant par rapport au perceptron ? Avez-vous un message d'alerte ?"
   ]
  },
  {
   "cell_type": "code",
   "id": "7268b9a1",
   "metadata": {
    "ExecuteTime": {
     "end_time": "2024-05-29T07:09:21.936761Z",
     "start_time": "2024-05-29T07:09:21.465902Z"
    }
   },
   "source": [
    "ann = MLPClassifier()\n",
    "ann.fit(X_train, y_train)\n",
    "y_pred = ann.predict(X_test) \n",
    "print(\"Accuracy :\", ann.score(X_test, y_test))\n",
    "print(\"Rappel :\", recall_score(y_test, y_pred))\n",
    "print(\"Precision :\", precision_score(y_test, y_pred))"
   ],
   "execution_count": 13,
   "outputs": []
  },
  {
   "cell_type": "markdown",
   "id": "7b320735-eb57-4935-bd2e-113a2e7ae73f",
   "metadata": {},
   "source": [
    "***Observation*** : l'accuracy et la precision sont plus eleve avec le reseau de neuronnes qu'avec le percpttron, mais le rapelle lui a diminuer"
   ]
  },
  {
   "cell_type": "markdown",
   "id": "3f9b9f82",
   "metadata": {},
   "source": [
    "3. Si vous avez observé un message d'alerte sur la question précédent, que signifie-t'il selon vous ? Que pouvez-vous faire pour y remédier ? Proposez un code permettant d'obtenir des résultats, sans message d'alerte. Qu'observez-vous sur l'évolution des scores ?"
   ]
  },
  {
   "cell_type": "code",
   "id": "478df749",
   "metadata": {
    "ExecuteTime": {
     "end_time": "2024-05-29T07:09:22.653768Z",
     "start_time": "2024-05-29T07:09:21.937758Z"
    }
   },
   "source": [
    "ann = MLPClassifier(max_iter=1000)\n",
    "ann.fit(X_train, y_train)\n",
    "y_pred = ann.predict(X_test) \n",
    "print(\"Accuracy :\", ann.score(X_test, y_test))\n",
    "print(\"Rappel :\", recall_score(y_test, y_pred))\n",
    "print(\"Precision :\", precision_score(y_test, y_pred))"
   ],
   "execution_count": 14,
   "outputs": []
  },
  {
   "cell_type": "markdown",
   "id": "132b2069",
   "metadata": {},
   "source": [
    "4. Nous allons à présent comparer différentes architectures du réseau de neurones :\n",
    "- Trois couches de 50 neurones chacune\n",
    "- Cinq couches de 50 neurones chacune\n",
    "- Trois couches : première avec 50, deuxième avec 100, troisième avec 50 neurones\n",
    "- Cinq couches : première avec 50, deuxième avec 100, troisième avec 50 neurones, quatrième avec 100, cinquième avec 50 neurones\n",
    "\n",
    "Représentez graphiquement l'accuracy, la précision et le rappel, pour chaque architecture. Il y en a t'il une qui semble plus pertinente que les autres ? Affichez-la, ainsi que les scores obtenus pour cette architecture. Comparez avec le score obtenu par l'architecture par défaut. Votre code ne doit générer aucun message d'alerte."
   ]
  },
  {
   "cell_type": "code",
   "id": "1027a554",
   "metadata": {
    "ExecuteTime": {
     "end_time": "2024-05-29T07:09:24.999149Z",
     "start_time": "2024-05-29T07:09:22.654761Z"
    }
   },
   "source": [
    "accuracy = []\n",
    "rappel = []\n",
    "precision = []\n",
    "architectures = [\n",
    "    (50,50,50),\n",
    "    (50,50,50,50,50),\n",
    "    (50,100,50),\n",
    "    (50,100,50,100,50)\n",
    "]\n",
    "for arch in architectures:\n",
    "    ann = MLPClassifier(hidden_layer_sizes=arch, max_iter=1000)\n",
    "    ann.fit(X_train, y_train)\n",
    "    y_pred = ann.predict(X_test) \n",
    "    accuracy.append(svm.score(X_test, y_test))\n",
    "    rappel.append(recall_score(y_test, y_pred))\n",
    "    precision.append(precision_score(y_test, y_pred))\n",
    "\n",
    "x = np.arange(len(architectures))\n",
    "\n",
    "print(accuracy)\n",
    "print(rappel)\n",
    "print(precision)\n",
    "plt.plot(x, accuracy, marker='o', label='Accuracy', color='b')\n",
    "plt.plot(x, rappel, marker='o', label='Recall', color='g')\n",
    "plt.plot(x, precision, marker='o', label='Precision', color='r')\n",
    "plt.xlabel(\"Architecture\")\n",
    "plt.xticks(x, architectures)\n",
    "plt.legend()\n",
    "plt.show()"
   ],
   "execution_count": 15,
   "outputs": []
  },
  {
   "cell_type": "markdown",
   "id": "e437de59",
   "metadata": {},
   "source": [
    "5. En utilisant l'architecture qui vous donnait les meilleures performances, étudier l'impact de la fonction d'activation utilisée sur les performances. Représentez sur un graphiques les scores (accuracy, précision et rappel) obtenus pour les quatres fonctions d'activation proposées par scikit-learn. Affichez la fonction qui vous parait la plus pertinente, ainsi que les scores associés."
   ]
  },
  {
   "cell_type": "code",
   "id": "9ad2a684",
   "metadata": {
    "ExecuteTime": {
     "end_time": "2024-05-29T07:09:28.343382Z",
     "start_time": "2024-05-29T07:09:25.002138Z"
    }
   },
   "source": [
    "activations=['identity', 'logistic', 'tanh', 'relu']\n",
    "accuracy = []\n",
    "rappel = []\n",
    "precision = []\n",
    "for activ in activations: \n",
    "    ann = MLPClassifier(hidden_layer_sizes=(50,100,50,100,50), activation=activ)\n",
    "    ann.fit(X_train, y_train)\n",
    "    y_pred = ann.predict(X_test) \n",
    "    accuracy.append(svm.score(X_test, y_test))\n",
    "    rappel.append(recall_score(y_test, y_pred))\n",
    "    precision.append(precision_score(y_test, y_pred))\n",
    "\n",
    "print(accuracy)\n",
    "print(rappel)\n",
    "print(precision)\n",
    "plt.plot(activations, accuracy, marker='o', label='Accuracy', color='b')\n",
    "plt.plot(activations, rappel, marker='o', label='Recall', color='g')\n",
    "plt.plot(activations, precision, marker='o', label='Precision', color='r')\n",
    "plt.xlabel(\"Activations\")\n",
    "plt.xticks(activations)\n",
    "plt.legend()\n",
    "plt.show()"
   ],
   "execution_count": 16,
   "outputs": []
  },
  {
   "cell_type": "markdown",
   "id": "60141a50",
   "metadata": {},
   "source": [
    "## Partie 5 : comparer les performances des différents algorithmes\n",
    "\n",
    "Nous allons à présent résumer les différentes performances des algorithmes que vous avez testé dans ce TP : récupérez les meilleurs scores (accuracy) obtenu pour chaque algorithme. Représentez-les sur un diagramme en barres, en regroupant par algorithme, et en représentant chaque score par une couleur. Un algorithme semble-t'il obtenir de meilleures performances que les autres ?"
   ]
  },
  {
   "cell_type": "code",
   "id": "2318f1a5",
   "metadata": {
    "ExecuteTime": {
     "end_time": "2024-05-29T07:09:28.347885Z",
     "start_time": "2024-05-29T07:09:28.344378Z"
    }
   },
   "source": [],
   "execution_count": 16,
   "outputs": []
  },
  {
   "cell_type": "markdown",
   "id": "fe7a5b28",
   "metadata": {},
   "source": [
    "## Partie 6 : optimiser la recherche des paramètres optimaux\n",
    "\n",
    "Dans ce TP, nous avons souvent cherché à identifier la meilleur combinaison de paramètres. Nous avons procédé par itération, en cherchant à fixer un paramètre avant de faire évoluer les autres. Cette méthode est couteuse, et pour faire une recherche exhaustive, nécessite, de répéter très souvent le même code. Scikit-learn propose une classe, `sklearn.model_selection.GridSearchCV`, qui va permettre d'optimiser cette recherche de paramétrage optimal.\n",
    "\n",
    "Lien vers la documentation : https://scikit-learn.org/stable/modules/generated/sklearn.model_selection.GridSearchCV.html\n",
    "\n",
    "Le principe est de définir un dictionnaire, où la clé correspond à un paramètre, et la valeur à la liste de valeurs possibles à tester pour le paramètre considéré. \n",
    "\n",
    "**Consigne :** Appliquez ce principe pour déterminer la meilleure combinaison possible pour le réseau de neurones, en repartant des différentes configurations testées dans les parties précédentes."
   ]
  },
  {
   "cell_type": "code",
   "id": "7f6eeac1",
   "metadata": {
    "ExecuteTime": {
     "end_time": "2024-05-29T07:09:28.354344Z",
     "start_time": "2024-05-29T07:09:28.349389Z"
    }
   },
   "source": [
    "parameters = {\n",
    "    'kernel' : ()\n",
    "}"
   ],
   "execution_count": 17,
   "outputs": []
  }
 ],
 "metadata": {
  "kernelspec": {
   "display_name": "Python 3 (ipykernel)",
   "language": "python",
   "name": "python3"
  },
  "language_info": {
   "codemirror_mode": {
    "name": "ipython",
    "version": 3
   },
   "file_extension": ".py",
   "mimetype": "text/x-python",
   "name": "python",
   "nbconvert_exporter": "python",
   "pygments_lexer": "ipython3",
   "version": "3.11.7"
  }
 },
 "nbformat": 4,
 "nbformat_minor": 5
}
