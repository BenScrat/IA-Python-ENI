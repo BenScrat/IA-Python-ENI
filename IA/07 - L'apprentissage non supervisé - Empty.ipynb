{
 "cells": [
  {
   "metadata": {},
   "cell_type": "markdown",
   "source": "# L'apprentissage non supervisé",
   "id": "c2fe670fd1a39f3b"
  },
  {
   "metadata": {},
   "cell_type": "markdown",
   "source": [
    "Rappel : On distingue généralement 4 formes d’apprentissage.\n",
    "\n",
    "- Supervisé\n",
    "- Semi-supervisé\n",
    "- Non-supervisé\n",
    "- Par renforcement\n",
    "\n",
    "Dans ce module, on se concentrera sur l’apprentissage non supervisé."
   ],
   "id": "1c8f9384be096e8a"
  },
  {
   "metadata": {},
   "cell_type": "markdown",
   "source": "L'apprentissage non supervisé est une méthode d'analyse de données qui consiste à explorer les données sans avoir de labels. On parle aussi d'analyse exploratoire. On cherche à identifier des structures, des motifs ou des régularités dans les données en utilisant uniquement les attributs en entrée ($X$).",
   "id": "60078f657d2af2d1"
  },
  {
   "metadata": {},
   "cell_type": "markdown",
   "source": [
    "Apprentissage non supervisé.\n",
    "\n",
    "<img src=\"images/01-unsupervised-learning.png\">"
   ],
   "id": "3554447e664e061c"
  },
  {
   "metadata": {},
   "cell_type": "markdown",
   "source": "## Le clustering",
   "id": "1201e9d75794b86b"
  },
  {
   "metadata": {},
   "cell_type": "markdown",
   "source": [
    "En tant qu'humain, nous sommes très fort pour regrouper des données. Un enfant pour regrouper des animaux en fonction de leur image. Comment faire apprendre cette capacité à un ordinateur ?\n",
    "\n",
    "Images de chats et de chiens.\n",
    "\n",
    "<img src=\"images/02-cats-and-dogs.png\">"
   ],
   "id": "2af6e8c6073fbcb2"
  },
  {
   "metadata": {},
   "cell_type": "markdown",
   "source": [
    "SodaLe **clustering** est une méthode d'apprentissage non supervisé qui consiste à regrouper des données similaires en clusters, c'est-à-dire en groupes. \n",
    "\n",
    "L'objectif principal du clustering est de diviser les données en groupes significatifs et utiles, où les données dans chaque groupe partagent des similarités et des structures communes. Les clusters ont différentes caractéristiques. Ils sont considérés comme **significatifs** s'ils regroupent des données partageant des structures communes, et **utiles** s'ils permettent d'identifier des regroupements pertinents en pratique."
   ],
   "id": "cb6a083ea167f5bb"
  },
  {
   "metadata": {},
   "cell_type": "markdown",
   "source": [
    "Images triées de chats et de chiens.\n",
    "\n",
    "<img src=\"images/03-cats-and-dogs.png\">"
   ],
   "id": "b1abb56932eb99a6"
  },
  {
   "metadata": {},
   "cell_type": "markdown",
   "source": [
    "Exercice : À partir de l'image suivante, déterminez quels sont les clusters possibles.\n",
    "\n",
    "Nuages de points.\n",
    "<img src=\"images/04-clustering.png\">"
   ],
   "id": "89622aad33cffa3f"
  },
  {
   "metadata": {},
   "cell_type": "markdown",
   "source": [
    "Comme l'illustre l'exercice, pour un même jeu de données, on a donc plein de possibilités. Il existe donc de nombreux algorithmes différents afin d'identifier des clusters.\n",
    "\n",
    "Pour choisir l'algorithme de clustering approprié, il faut prendre en compte les caractéristiques des données, la manière dont on souhaite les regrouper et les résultats que l'on espère obtenir. Il est important de bien comprendre les forces et les faiblesses de chaque algorithme pour faire un choix éclairé. En général, il est recommandé d'essayer plusieurs algorithmes et de comparer les résultats pour déterminer celui qui convient le mieux à la tâche à accomplir.\n",
    "\n",
    "Lorsque l'on utilise des algorithmes de clustering, il est important de normaliser les données en entrée. La plupart des algorithmes se basent sur des distances pour regrouper les données similaires. Si les données ne sont pas normalisées, certaines caractéristiques peuvent avoir une influence disproportionnée sur les résultats du clustering. La normalisation permet de ramener toutes les caractéristiques à la même échelle, ce qui garantit que chaque caractéristique aura une influence similaire sur les résultats du clustering."
   ],
   "id": "8f13ba9e65ff2bcf"
  },
  {
   "metadata": {},
   "cell_type": "markdown",
   "source": "## Les types de clustering",
   "id": "f1e86a85da8c936e"
  },
  {
   "metadata": {},
   "cell_type": "markdown",
   "source": [
    "Il existe de nombreux algorithmes de clustering, qui peuvent être classés en différentes catégories en fonction de leur approche et de leur méthode de regroupement des données. Les principaux types de clustering sont les suivants.\n",
    "\n",
    "1. **Partitionnement** : Le clustering par partitionnement est une méthode de clustering qui consiste à diviser un ensemble de données en un certain nombre de groupes (ou clusters) prédéfinis. Les données sont regroupées en fonction de leur similarité.\n",
    "2. **Hiérarchisation** : Le clustering par hiérarchisation est une méthode de regroupement de données qui consiste à créer une hiérarchie de clusters en fonction de leur similarité. Chaque donnée est initialement considérée comme un cluster séparé, puis les clusters les plus similaires sont progressivement fusionnés jusqu'à ce qu'un seul cluster soit obtenu. Le résultat final est une hiérarchie de clusters.\n",
    "3. **Well-separated** : Méthode de clustering qui vise à regrouper les données en clusters bien séparés les uns des autres.\n",
    "4. **Center-based** : Méthode de clustering dans laquelle les données sont regroupées en fonction de leur proximité avec un centre de cluster défini.\n",
    "5. **Contiguïté** : Méthode de regroupement de données qui consiste à regrouper les données qui sont proches les unes des autres dans l'espace de données. Les données sont considérées comme étant contiguës si elles sont connectées par une chaîne de données voisines.\n",
    "6. **Par densité** : Méthode de regroupement de données qui consiste à identifier des groupes de données qui sont proches les uns des autres dans un espace donné. Cette méthode se base sur la densité des données dans l'espace pour déterminer les groupes. \n",
    "7. **Conceptuel** : Méthode de clustering qui vise à regrouper les données en fonction de concepts ou de règles sous-jacentes plutôt que de simplement regrouper des données similaires ensemble."
   ],
   "id": "33e60e3158ed0746"
  },
  {
   "metadata": {},
   "cell_type": "markdown",
   "source": [
    "Synthèse des algorithmes de clustering implémentés dans Scikit-learn.\n",
    "\n",
    "<img src=\"images/05-scikit-learn-synthesis.png\">"
   ],
   "id": "2b115317d74e872b"
  },
  {
   "metadata": {},
   "cell_type": "markdown",
   "source": "## Les algorithmes de clustering",
   "id": "e63d7440bd458eff"
  },
  {
   "metadata": {},
   "cell_type": "markdown",
   "source": "### K-Means",
   "id": "a2fe59c94bd6bcd"
  },
  {
   "metadata": {},
   "cell_type": "markdown",
   "source": [
    "K-means est un algorithme de clustering de type \"center-base\". Il regroupe les données en $k$ clusters en se basant sur leur proximité avec des centroïdes. L'algorithme commence par sélectionner $k$ points comme centroïdes initiaux. Ensuite, il répète les étapes suivantes jusqu'à ce que les centroïdes cessent de bouger.\n",
    "\n",
    "1. Former $k$ clusters en affectant chaque point au centroïde dont il est le plus proche.\n",
    "2. Recalculer les centroïdes de chaque cluster en utilisant le barycentre des points dans le cluster.\n"
   ],
   "id": "15c5ffde38764e7c"
  },
  {
   "metadata": {},
   "cell_type": "markdown",
   "source": [
    "Lorsqu'on utilise l'algorithme K-means pour le clustering, plusieurs questions importantes doivent être considérées.\n",
    "\n",
    "- **Comment déterminer la valeur optimale de $k$ ?** Autrement dit, comment déterminer le nombre de clusters à former ? Cela peut dépendre de la réalité du terrain, être choisi aléatoirement ou en utilisant d'autres méthodes.\n",
    "- **Comment initialiser les centroïdes ?** Il existe différentes méthodes pour initialiser les centroïdes, comme les choisir aléatoirement.\n",
    "- **Quelle mesure de distance utiliser pour déterminer la proximité entre les points et les centroïdes ?** Différentes mesures de distance peuvent être utilisées, comme la distance euclidienne ou la distance de Manhattan.\n",
    "- **Que faire si un centroïde ne regroupe aucun point (cluster vide) ?** Cela peut arriver lorsque les données ne sont pas bien réparties ou que le choix initial des centroïdes n'était pas optimal. Dans ce cas, il est possible de réinitialiser les centroïdes ou d'utiliser d'autres méthodes pour gérer les clusters vides.\n",
    "\n",
    "Il est important de prendre en compte ces questions lors de l'utilisation de l'algorithme K-means pour obtenir des résultats précis et significatifs."
   ],
   "id": "d92c811af5540053"
  },
  {
   "metadata": {},
   "cell_type": "markdown",
   "source": "#### Comment déterminer la valeur optimale de $k$ ?",
   "id": "4008d55f332006a8"
  },
  {
   "metadata": {},
   "cell_type": "markdown",
   "source": [
    "Pour déterminer la valeur optimale de $k$ dans l'algorithme K-means, il existe plusieurs méthodes. \n",
    "\n",
    "La première est de le choisir de **manière aléatoire**, ce qui présente l'avantage d'être simple et souvent efficace, mais qui présente un risque de variabilité forte des résultats.\n",
    "\n",
    "Une autre méthode est de chercher la valeur de k qui maximise la performance ou minimise une mesure d'erreur. Deux méthodes issues de cette philosophie sont particulièrement utilisées.\n",
    " \n",
    "1. La **méthode du coude** (Elbow method) consiste à tracer la courbe de la variance intra-cluster en fonction de $k$, et à choisir la valeur de $k$ correspondant au coude de la courbe. \n",
    "2. La **méthode silhouette** évalue la qualité de la séparation entre les clusters en calculant la silhouette moyenne des points, et permet de choisir la valeur de $k$ qui maximise cette valeur."
   ],
   "id": "55cb1cf15db3766a"
  },
  {
   "metadata": {},
   "cell_type": "markdown",
   "source": "##### La méthode du coude",
   "id": "21bded8f24afb854"
  },
  {
   "metadata": {},
   "cell_type": "markdown",
   "source": [
    "La méthode du coude (ou \"Elbow method\" en anglais) est une technique utilisée en clustering pour déterminer le nombre optimal de clusters à utiliser.\n",
    "\n",
    "L'idée est de calculer la variance intra-cluster (Within-Cluster-Sum of Squared Errors - WSS) qui est la somme des carrés des distances entre chaque point et le centroïde de son cluster. Le calcul du WSS est fait pour différentes valeurs de $k$. Une fois fait, on trace une courbe avec en abscisse le nombre de clusters $k$ et en ordonnée la variance intra-cluster.\n",
    "\n",
    "$$\n",
    "WSS = \\sum_{i=1}^{N_{c}} \\sum_{x \\in C_i} d(x, x_c_{i})^2\n",
    "$$\n",
    "\n",
    "Où $N_{c}$ est le nombre de clusters et $x_{c_{i}}$ est le centre du $i$-ème cluster."
   ],
   "id": "dec5cbbab8913b56"
  },
  {
   "metadata": {},
   "cell_type": "markdown",
   "source": [
    "La méthode du coude.\n",
    "\n",
    "<img src=\"images/06-elbow-method.png\">"
   ],
   "id": "dee6f67d04d6d7c9"
  },
  {
   "metadata": {},
   "cell_type": "markdown",
   "source": "##### Le coefficient de silhouette",
   "id": "4424a8bc38640887"
  },
  {
   "metadata": {},
   "cell_type": "markdown",
   "source": [
    "Le coefficient de silhouette est une mesure de qualité d'un partitionnement en clustering. Pour chaque point un calcul de différentes caractéristiques est fait. \n",
    "\n",
    "1. La **distance de cohésion** $a(i)$ : Pour chaque point $i$, on calcule la distance moyenne à tous les autres points du même cluster.\n",
    "$$\n",
    "a(i) = \\frac{1}{|C_{i}| - 1} \\sum_{j \\in C_{i}, i \\neq j} d(i, j)\n",
    "$$\n",
    "\n",
    "2. La **distance de séparation** $b(i)$ : Pour chaque point, on calcule la distance moyenne à tous les points du cluster le plus proche auquel il n'appartient pas.\n",
    "\n",
    "$$\n",
    "b(i) = \\min_{k \\neq k'} \\frac{1}{|C_{k'}|} \\sum_{j \\in C_{k'}} d(i, j)\n",
    "$$ \n",
    "\n",
    "Une fois ces distances déterminées, on peut calculer la silhouette pour chaque point.\n",
    "\n",
    "$$\n",
    "silhouette(i) = \\frac{b(i) - a(i)}{\\max(a(i), b(i))}\n",
    "$$\n",
    "\n",
    "Et on finit par calculer le coefficient de silhouette grâce à la formule suivante.\n",
    "\n",
    "$$\n",
    "s_{sil} = \\frac{1}{K} \\sum_{k=1}^{K} \\frac{1}{|C_{k}|} \\sum_{i \\in C_{i}} silhouette(i)\n",
    "$$\n",
    "\n",
    "La valeur du coefficient de silhouette est compris entre -1 (mauvais partitionnement) et 1 (excellent partitionnement). La valeur de $K$ avec le meilleur coefficient de silhouette est la valeur optimale de $k$."
   ],
   "id": "f0cee2aaccd6f114"
  },
  {
   "metadata": {},
   "cell_type": "markdown",
   "source": "#### Initialisation des centroïdes",
   "id": "21ce20eab726d81d"
  },
  {
   "metadata": {},
   "cell_type": "markdown",
   "source": "##### Méthode aléatoire",
   "id": "7cc8ecf5a6f4390d"
  },
  {
   "metadata": {},
   "cell_type": "markdown",
   "source": "La méthode aléatoire pour initialiser des centroïdes consiste à sélectionner des points de données au hasard dans l'espace de données pour servir de centroïdes initiaux. Cette méthode est simple et rapide à mettre en œuvre, mais elle peut conduire à des résultats de clustering instables et dépendants de l'initialisation.",
   "id": "94a347b4f35fea2c"
  },
  {
   "metadata": {},
   "cell_type": "markdown",
   "source": "##### Méthode k-means++",
   "id": "941d32c96458554c"
  },
  {
   "metadata": {},
   "cell_type": "markdown",
   "source": [
    "L'idée de la méthode k-means++ est de choisir les centroïdes initiaux de manière à maximiser leur distance avec les autres points du dataset. Pour cela, on procède de la manière suivante.\n",
    "\n",
    "1. Choisir un premier centroïde au hasard parmi les points du dataset.\n",
    "2. Choisir le prochain de manière aléatoire, en pondérant la probabilité d’être choisi par rapport à la distance aux centroïdes existants (un point éloigné aura plus de chance d'être choisi.)\n",
    "3. Répéter les étapes 1 et 2 jusqu'à avoir $k$ centroïdes.\n",
    "\n",
    "Cette méthode permet d'obtenir une initialisation plus uniforme des centroïdes, ce qui peut améliorer la qualité du clustering final."
   ],
   "id": "65c5bbdef798606e"
  },
  {
   "metadata": {},
   "cell_type": "markdown",
   "source": "#### Implémentation de K-means avec Scikit-learn",
   "id": "bb1fda2a6e2802f5"
  },
  {
   "metadata": {
    "ExecuteTime": {
     "end_time": "2024-05-29T08:21:57.546316Z",
     "start_time": "2024-05-29T08:21:57.194178Z"
    }
   },
   "cell_type": "code",
   "source": [
    "from sklearn.datasets import load_iris\n",
    "\n",
    "iris, _ = load_iris(return_X_y=True,as_frame=True)\n",
    "\n",
    "iris"
   ],
   "id": "71733ae4802b5412",
   "outputs": [
    {
     "data": {
      "text/plain": [
       "     sepal length (cm)  sepal width (cm)  petal length (cm)  petal width (cm)\n",
       "0                  5.1               3.5                1.4               0.2\n",
       "1                  4.9               3.0                1.4               0.2\n",
       "2                  4.7               3.2                1.3               0.2\n",
       "3                  4.6               3.1                1.5               0.2\n",
       "4                  5.0               3.6                1.4               0.2\n",
       "..                 ...               ...                ...               ...\n",
       "145                6.7               3.0                5.2               2.3\n",
       "146                6.3               2.5                5.0               1.9\n",
       "147                6.5               3.0                5.2               2.0\n",
       "148                6.2               3.4                5.4               2.3\n",
       "149                5.9               3.0                5.1               1.8\n",
       "\n",
       "[150 rows x 4 columns]"
      ],
      "text/html": [
       "<div>\n",
       "<style scoped>\n",
       "    .dataframe tbody tr th:only-of-type {\n",
       "        vertical-align: middle;\n",
       "    }\n",
       "\n",
       "    .dataframe tbody tr th {\n",
       "        vertical-align: top;\n",
       "    }\n",
       "\n",
       "    .dataframe thead th {\n",
       "        text-align: right;\n",
       "    }\n",
       "</style>\n",
       "<table border=\"1\" class=\"dataframe\">\n",
       "  <thead>\n",
       "    <tr style=\"text-align: right;\">\n",
       "      <th></th>\n",
       "      <th>sepal length (cm)</th>\n",
       "      <th>sepal width (cm)</th>\n",
       "      <th>petal length (cm)</th>\n",
       "      <th>petal width (cm)</th>\n",
       "    </tr>\n",
       "  </thead>\n",
       "  <tbody>\n",
       "    <tr>\n",
       "      <th>0</th>\n",
       "      <td>5.1</td>\n",
       "      <td>3.5</td>\n",
       "      <td>1.4</td>\n",
       "      <td>0.2</td>\n",
       "    </tr>\n",
       "    <tr>\n",
       "      <th>1</th>\n",
       "      <td>4.9</td>\n",
       "      <td>3.0</td>\n",
       "      <td>1.4</td>\n",
       "      <td>0.2</td>\n",
       "    </tr>\n",
       "    <tr>\n",
       "      <th>2</th>\n",
       "      <td>4.7</td>\n",
       "      <td>3.2</td>\n",
       "      <td>1.3</td>\n",
       "      <td>0.2</td>\n",
       "    </tr>\n",
       "    <tr>\n",
       "      <th>3</th>\n",
       "      <td>4.6</td>\n",
       "      <td>3.1</td>\n",
       "      <td>1.5</td>\n",
       "      <td>0.2</td>\n",
       "    </tr>\n",
       "    <tr>\n",
       "      <th>4</th>\n",
       "      <td>5.0</td>\n",
       "      <td>3.6</td>\n",
       "      <td>1.4</td>\n",
       "      <td>0.2</td>\n",
       "    </tr>\n",
       "    <tr>\n",
       "      <th>...</th>\n",
       "      <td>...</td>\n",
       "      <td>...</td>\n",
       "      <td>...</td>\n",
       "      <td>...</td>\n",
       "    </tr>\n",
       "    <tr>\n",
       "      <th>145</th>\n",
       "      <td>6.7</td>\n",
       "      <td>3.0</td>\n",
       "      <td>5.2</td>\n",
       "      <td>2.3</td>\n",
       "    </tr>\n",
       "    <tr>\n",
       "      <th>146</th>\n",
       "      <td>6.3</td>\n",
       "      <td>2.5</td>\n",
       "      <td>5.0</td>\n",
       "      <td>1.9</td>\n",
       "    </tr>\n",
       "    <tr>\n",
       "      <th>147</th>\n",
       "      <td>6.5</td>\n",
       "      <td>3.0</td>\n",
       "      <td>5.2</td>\n",
       "      <td>2.0</td>\n",
       "    </tr>\n",
       "    <tr>\n",
       "      <th>148</th>\n",
       "      <td>6.2</td>\n",
       "      <td>3.4</td>\n",
       "      <td>5.4</td>\n",
       "      <td>2.3</td>\n",
       "    </tr>\n",
       "    <tr>\n",
       "      <th>149</th>\n",
       "      <td>5.9</td>\n",
       "      <td>3.0</td>\n",
       "      <td>5.1</td>\n",
       "      <td>1.8</td>\n",
       "    </tr>\n",
       "  </tbody>\n",
       "</table>\n",
       "<p>150 rows × 4 columns</p>\n",
       "</div>"
      ]
     },
     "execution_count": 1,
     "metadata": {},
     "output_type": "execute_result"
    }
   ],
   "execution_count": 1
  },
  {
   "metadata": {
    "ExecuteTime": {
     "end_time": "2024-05-29T08:26:11.733601Z",
     "start_time": "2024-05-29T08:26:11.191014Z"
    }
   },
   "cell_type": "code",
   "source": [
    "from sklearn.cluster import KMeans\n",
    "\n",
    "# Création du modele grace a la classe de Skikit-learn\n",
    "kmeans = KMeans(n_clusters=3, init='k-means++')\n",
    "\n",
    "# Apprentissage des clusters a partir des deonnées\n",
    "kmeans.fit(iris)\n",
    "\n",
    "# Pour chaque point, recuperer le numero du cluster auquel il est affecté\n",
    "y_kmeans = kmeans.predict(iris)\n",
    "\n",
    "iris['y_kmeans'] = y_kmeans"
   ],
   "id": "6aaaf7bd9f4bbf6b",
   "outputs": [
    {
     "name": "stderr",
     "output_type": "stream",
     "text": [
      "C:\\Users\\bvannier2021\\AppData\\Local\\anaconda3\\Lib\\site-packages\\sklearn\\cluster\\_kmeans.py:870: FutureWarning: The default value of `n_init` will change from 10 to 'auto' in 1.4. Set the value of `n_init` explicitly to suppress the warning\n",
      "  warnings.warn(\n",
      "C:\\Users\\bvannier2021\\AppData\\Local\\anaconda3\\Lib\\site-packages\\sklearn\\cluster\\_kmeans.py:1382: UserWarning: KMeans is known to have a memory leak on Windows with MKL, when there are less chunks than available threads. You can avoid it by setting the environment variable OMP_NUM_THREADS=1.\n",
      "  warnings.warn(\n"
     ]
    }
   ],
   "execution_count": 3
  },
  {
   "metadata": {
    "ExecuteTime": {
     "end_time": "2024-05-29T08:31:43.741449Z",
     "start_time": "2024-05-29T08:31:43.429205Z"
    }
   },
   "cell_type": "code",
   "source": [
    "from matplotlib import pyplot as plt\n",
    "\n",
    "fig = plt.subplots(figsize=(15,10))\n",
    "\n",
    "plt.scatter(iris[iris['y_kmeans']==0]['petal length (cm)'], iris[iris['y_kmeans']==0]['petal width (cm)'], label='Cluster 0')\n",
    "plt.scatter(iris[iris['y_kmeans']==1]['petal length (cm)'], iris[iris['y_kmeans']==1]['petal width (cm)'], label='Cluster 1')\n",
    "plt.scatter(iris[iris['y_kmeans']==2]['petal length (cm)'], iris[iris['y_kmeans']==2]['petal width (cm)'], label='Cluster 2')\n",
    "plt.xlabel(\"Petal length\")\n",
    "plt.ylabel(\"Petal width\")\n",
    "plt.title(\"Iris dataset\")\n",
    "plt.legend()\n",
    "plt.show()"
   ],
   "id": "17b13c3cf3c9dfa9",
   "outputs": [
    {
     "data": {
      "text/plain": [
       "<Figure size 1500x1000 with 1 Axes>"
      ],
      "image/png": "[encoded data removed]"
     },
     "metadata": {},
     "output_type": "display_data"
    }
   ],
   "execution_count": 7
  },
  {
   "metadata": {},
   "cell_type": "markdown",
   "source": "### Le clustering hiérarchique",
   "id": "2734f65d663dd347"
  },
  {
   "metadata": {},
   "cell_type": "markdown",
   "source": [
    "Le clustering hiérarchique est une méthode de regroupement de données qui consiste à créer une hiérarchie de clusters imbriqués les uns dans les autres. Cette méthode est représentée graphiquement sous la forme d'un dendrogramme, qui montre les relations de parenté entre les différents clusters.\n",
    "\n",
    "Dendogramme.\n",
    "<img src=\"images/07-dendogram.png\">"
   ],
   "id": "5753d0d6826f568c"
  },
  {
   "metadata": {},
   "cell_type": "markdown",
   "source": [
    "Le clustering hiérarchique présente plusieurs avantages :\n",
    "\n",
    "- Il ne nécessite pas de définir à l'avance le nombre de clusters à créer.\n",
    " Elle peut correspondre à une représentation pertinente de la hiérarchie sous-jacente dans les données, comme par exemple un arbre phylogénétique en biologie ou une généalogie en histoire.\n",
    "\n",
    "Il existe deux stratégies principales pour le clustering hiérarchique :\n",
    "\n",
    "* La stratégie **accumulative** : consiste à commencer avec chaque point dans son propre cluster, puis à fusionner les clusters les plus proches à chaque étape jusqu'à ce qu'un seul cluster reste.\n",
    "* La stratégie par **division** : consiste à commencer avec tous les points dans le même cluster, puis à diviser chaque cluster en plusieurs clusters à chaque étape jusqu'à ce que chaque point soit dans son propre cluster.\n",
    "\n",
    "Le choix de la stratégie dépend de la nature des données et de l'objectif du clustering."
   ],
   "id": "84c812f5dfdcee1f"
  },
  {
   "metadata": {},
   "cell_type": "markdown",
   "source": [
    "Exercice : À partir de l'image suivante et de la définition de la stratégie accumulative, déterminez l'évolution algorithmique des clusters possibles.\n",
    "\n",
    "Clustering hiérarchique.\n",
    "<img src=\"images/08-hierarchical-clustering.png\">"
   ],
   "id": "794e7289d862e0d8"
  },
  {
   "metadata": {},
   "cell_type": "markdown",
   "source": [
    "La clef du clustering hiérarchique est de calculer la proximité entre les clusters. Il existe de nombreuses façons de calculer cette proximité. Les différentes méthodes de calcul de cette proximité peuvent avoir un impact important sur les résultats finaux du clustering. Il est donc important de choisir une méthode adaptée aux données et à l'objectif de l'analyse.\n",
    "\n",
    "Les différents types de distance.\n",
    "\n",
    "<img src=\"images/09-distances.png\">"
   ],
   "id": "34242af2790ebe32"
  },
  {
   "metadata": {},
   "cell_type": "markdown",
   "source": "Pour calculer les distances il est tout à fait possibles d'utiliser celles qu'on a vu dans ce cours comme les distances euclidiennes ou de Minkowski.",
   "id": "2b862e8686117336"
  },
  {
   "metadata": {},
   "cell_type": "markdown",
   "source": [
    "L'avantage du clustering hiérarchique est qu'il ne nécessite pas de définir à l'avance le nombre de clusters à créer. Une fois le regroupement hiérarchique effectué, on peut couper le dendrogramme à la hauteur de son choix pour obtenir le nombre de clusters souhaité.\n",
    "\n",
    "Cependant, le choix de la hauteur de coupe peut être subjectif et il est important de prendre en compte les caractéristiques des données et les objectifs de l'analyse pour déterminer le meilleur nombre de clusters.\n",
    "\n",
    "On se retrouve à nouveau à pouvoir choisir le meilleur nombre de clusters.\n",
    "\n",
    "<img src=\"images/10-cluster-choice.png\">"
   ],
   "id": "4a75cc759a5590b6"
  },
  {
   "metadata": {},
   "cell_type": "markdown",
   "source": "#### Implémentation du clustering hiérarchique avec Scikit-learn",
   "id": "794b28a1a28ce848"
  },
  {
   "metadata": {},
   "cell_type": "markdown",
   "source": [
    "Dans l'implémentation avec Scikit-learn, il est nécessaire d'indiquer le nombre de clusters dès le départ (niveau de coupe dans le dendrogramme, condition d'arrêt de l'algorithme).\n",
    "\n",
    "Autre particularité : Il n'y a pas de predict. Le dendrogramme n'existe que pour les données fournies, il est donc impossible de rattacher facilement un nouveau point aux clusters créés."
   ],
   "id": "380e0c01b92f2f83"
  },
  {
   "metadata": {
    "ExecuteTime": {
     "end_time": "2024-05-29T09:09:25.579234Z",
     "start_time": "2024-05-29T09:09:25.569918Z"
    }
   },
   "cell_type": "code",
   "source": [
    "from sklearn.cluster import AgglomerativeClustering\n",
    "\n",
    "# Creation du model a partir de la classe AgglomeraticeClustering\n",
    "hierarchical = AgglomerativeClustering(n_clusters=3)\n",
    "\n",
    "# Apprentissage des clusters\n",
    "y_kmeans = hierarchical.fit_predict(iris)\n",
    "\n",
    "y_kmeans"
   ],
   "id": "81d1868d4de32e04",
   "outputs": [
    {
     "data": {
      "text/plain": [
       "array([1, 1, 1, 1, 1, 1, 1, 1, 1, 1, 1, 1, 1, 1, 1, 1, 1, 1, 1, 1, 1, 1,\n",
       "       1, 1, 1, 1, 1, 1, 1, 1, 1, 1, 1, 1, 1, 1, 1, 1, 1, 1, 1, 1, 1, 1,\n",
       "       1, 1, 1, 1, 1, 1, 0, 0, 2, 0, 0, 0, 0, 0, 0, 0, 0, 0, 0, 0, 0, 0,\n",
       "       0, 0, 0, 0, 0, 0, 0, 0, 0, 0, 0, 2, 0, 0, 0, 0, 0, 0, 0, 0, 0, 0,\n",
       "       0, 0, 0, 0, 0, 0, 0, 0, 0, 0, 0, 0, 2, 0, 2, 2, 2, 2, 0, 2, 2, 2,\n",
       "       2, 2, 2, 0, 0, 2, 2, 2, 2, 0, 2, 0, 2, 0, 2, 2, 0, 0, 2, 2, 2, 2,\n",
       "       2, 0, 2, 2, 2, 2, 0, 2, 2, 2, 0, 2, 2, 2, 0, 2, 2, 0], dtype=int64)"
      ]
     },
     "execution_count": 8,
     "metadata": {},
     "output_type": "execute_result"
    }
   ],
   "execution_count": 8
  },
  {
   "metadata": {},
   "cell_type": "markdown",
   "source": "Pour plus de facilités nous allons créer une fonction qui nous permettra de visualiser les dendogrammes des modèles de clustering hiérarchique.",
   "id": "b78f7fe26ff289e1"
  },
  {
   "metadata": {
    "ExecuteTime": {
     "end_time": "2024-05-29T09:11:33.737301Z",
     "start_time": "2024-05-29T09:11:33.731386Z"
    }
   },
   "cell_type": "code",
   "source": [
    "from scipy.cluster.hierarchy import dendrogram\n",
    "import numpy as np\n",
    "\n",
    "def plot_dendrogram(model, **kwargs):\n",
    "    \"\"\" La fonction plot_dendrogram permet de visualiser les dendogrammes des modèles de clustering hiérarchique.\"\"\"\n",
    "\n",
    "    # Comptage du nombre de données dans chaque nœud\n",
    "    counts = np.zeros(model.children_.shape[0])\n",
    "    n_samples = len(model.labels_)\n",
    "\n",
    "    for index, merge in enumerate(model.children_):\n",
    "        current_count = 0\n",
    "        for child_index in merge:\n",
    "            if child_index < n_samples:\n",
    "                current_count += 1  # leaf node\n",
    "            else:\n",
    "                current_count += counts[child_index - n_samples]\n",
    "        counts[index] = current_count\n",
    "\n",
    "    linkage_matrix = np.column_stack(\n",
    "        [model.children_, model.distances_, counts]\n",
    "    ).astype(float)\n",
    "\n",
    "    # Affichage du dendogramme avec la fonction de Seaborn\n",
    "    dendrogram(linkage_matrix, **kwargs)"
   ],
   "id": "aeab665e567b2f56",
   "outputs": [],
   "execution_count": 9
  },
  {
   "metadata": {
    "ExecuteTime": {
     "end_time": "2024-05-29T09:15:52.280322Z",
     "start_time": "2024-05-29T09:15:50.434042Z"
    }
   },
   "cell_type": "code",
   "source": [
    "model = AgglomerativeClustering(distance_threshold=0, n_clusters=None)\n",
    "\n",
    "model.fit(iris)\n",
    "\n",
    "fig = plt.figure(figsize=(15,10))\n",
    "\n",
    "plt.title(\"Dendrogramme pour le clustering hierarchique du jeu de données Iris\")\n",
    "plt.xlabel(\"Numero de la donnée de point dans le noeud\")\n",
    "plot_dendrogram(model)"
   ],
   "id": "6a896c960e8a6ffd",
   "outputs": [
    {
     "data": {
      "text/plain": [
       "<Figure size 1500x1000 with 1 Axes>"
      ],
      "image/png": "[encoded data removed]"
     },
     "metadata": {},
     "output_type": "display_data"
    }
   ],
   "execution_count": 12
  },
  {
   "metadata": {},
   "cell_type": "markdown",
   "source": "### Itemsets et associations",
   "id": "977ec97442f01072"
  },
  {
   "metadata": {},
   "cell_type": "markdown",
   "source": [
    "Le clustering n'est pas la seule tâche d'apprentissage non supervisé. La recherche d'itemsets et d'associations est une autre technique populaire qui consiste à trouver des règles de dépendance entre des éléments dans des transactions. Par exemple, dans l'analyse d'un panier de courses, on peut chercher à savoir quels sont les produits qui sont souvent achetés ensemble.\n",
    "\n",
    "Exemple : Analyse d'un panier de courses.\n",
    "\n",
    "<img src=\"images/11-itemsets-and-associations.png\">"
   ],
   "id": "2220894aaa247ccb"
  },
  {
   "metadata": {},
   "cell_type": "markdown",
   "source": [
    "La recherche d'associations est une méthode d'apprentissage non supervisé qui permet de trouver des relations entre des éléments dans un ensemble de données. Elle est souvent utilisée dans les domaines suivants :\n",
    "\n",
    "- L'analyse de paniers dans le marketing, pour cibler des promotions, regrouper des produits souvent achetés ensemble et optimiser la répartition de produits dans un magasin.\n",
    "- La détection de fraudes, en cherchant des liens entre des événements suspects.\n",
    "- La fouille de graphes dans les réseaux sociaux, pour trouver des communautés ou des influenceurs.\n",
    "- Les suggestions de vidéos sur des plateformes de streaming, en fonction des préférences de l'utilisateur.\n",
    "\n",
    "Cette méthode permet de découvrir des relations cachées dans les données et peut aider à prendre des décisions éclairées dans de nombreux domaines d'application."
   ],
   "id": "b86f39f26e8fa396"
  },
  {
   "metadata": {},
   "cell_type": "markdown",
   "source": [
    "Les associations ont un vocabulaire spécifique.\n",
    "\n",
    "- **Itemset** : Une collection d'éléments dans une transaction. Par exemple, {Lait, Beurre, Eau}.\n",
    "- **Support d'un itemset** noté $\\sigma$ : La fréquence d'apparition d'un itemset dans les transactions. Par exemple, le support de {Lait, Beurre, Eau} est le nombre de transactions contenant ces trois éléments.\n",
    "- **Règle d'association** : Une relation entre deux itemsets, généralement exprimée sous la forme \"Si {$X$} alors {$Y$}\". Par exemple, \"Si {Lait, Beurre} alors {Eau}\".\n",
    "\n",
    "Dans le tableau ci-dessus on a $\\sigma(\\text{Bières} \\cup \\text{lait}) = 3$\n",
    "\n",
    "- Le **support d'une association** : C'est le pourcentage des transactions qui contiennent l'itemset.\n",
    "\n",
    "$$\n",
    "s(X \\rightarrow Y) = \\frac{\\sigma(X \\cup Y)}{N}\n",
    "$$\n",
    "\n",
    "En reprenant l'exemple précédent on a $s(\\text{Bières} \\rightarrow \\text{Lait}) = \\frac{3}{5} = 60\\%$\n",
    "\n",
    "- L'**indice de confiance** : C'est le pourcentage des transactions contenant $X$ qui contiennent aussi $Y$.\n",
    "\n",
    "$$\n",
    "c(X \\rightarrow Y) = \\frac{\\sigma(X \\cup Y)}{\\sigma(X)} = P(Y|X)\n",
    "$$\n",
    "\n",
    "L'indice de confiance est donc la probabilité d'obtenir $Y$ sachant $X$."
   ],
   "id": "b6e14e14884b9ce0"
  },
  {
   "metadata": {},
   "cell_type": "markdown",
   "source": "Exercice : À partir du tableau de panier du cours, déterminez le support de l'association $s(\\{\\text{Bières}, \\text{Couches}\\} \\rightarrow \\{\\text{Lait}\\})$ ainsi que l'indice de confiance $c(\\{\\text{Bières}, \\text{Couches}\\} \\rightarrow \\{\\text{Lait}\\})$.",
   "id": "dd87d235150ce98c"
  },
  {
   "metadata": {},
   "cell_type": "markdown",
   "source": "#### Recherche de règles d'association",
   "id": "2d87676b3080fcb1"
  },
  {
   "metadata": {},
   "cell_type": "markdown",
   "source": "La recherche de règles d'association, ou \"association rule mining\", est une technique d'apprentissagede découverte des relations entre des éléments dans un ensemble de données. Elle consiste à trouver toutes les règles d'association entre des items fréquemment présents ensemble dans un ensemble de transactions, avec un support et une confiance supérieurs à des seuils définis par l'utilisateur.",
   "id": "71e953433c8b66ca"
  },
  {
   "metadata": {},
   "cell_type": "markdown",
   "source": "##### Approche brute-force",
   "id": "fc5cacebebaf4e31"
  },
  {
   "metadata": {},
   "cell_type": "markdown",
   "source": "L'approche \"brute-force\" liste toutes les règles possibles entre ces éléments et calcule leur support et leur confiance. Cette méthode est très coûteuse et longue, car elle génère un grand nombre de règles possibles. Par exemple, pour seulement 6 éléments, il y a déjà 602 règles possibles.",
   "id": "35522d9c9a135e79"
  },
  {
   "metadata": {},
   "cell_type": "markdown",
   "source": "##### Algorithme A priori",
   "id": "60dc22ffbea4e728"
  },
  {
   "metadata": {},
   "cell_type": "markdown",
   "source": "L'algorithme A priori est une méthode efficace pour la recherche d'itemsets fréquents dans un ensemble de transactions. Il se base sur le principe que si un itemset est fréquent, alors tous ses sous-ensembles le sont également. Par exemple, si l'ensemble {Lait, Couches, Soda} est fréquent, alors les ensembles {Lait, Couches}, {Lait, Soda}, {Couches, Soda}, {Lait}, {Couches} et {Soda} le sont aussi. Il est considéré comme une référence pour la recherche d'itemsets fréquents.",
   "id": "f1e473a30657e37b"
  }
 ],
 "metadata": {
  "kernelspec": {
   "display_name": "Python 3",
   "language": "python",
   "name": "python3"
  },
  "language_info": {
   "codemirror_mode": {
    "name": "ipython",
    "version": 2
   },
   "file_extension": ".py",
   "mimetype": "text/x-python",
   "name": "python",
   "nbconvert_exporter": "python",
   "pygments_lexer": "ipython2",
   "version": "2.7.6"
  }
 },
 "nbformat": 4,
 "nbformat_minor": 5
}
